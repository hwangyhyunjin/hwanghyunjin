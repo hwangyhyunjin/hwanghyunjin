{
 "cells": [
  {
   "cell_type": "markdown",
   "id": "1eb093e3",
   "metadata": {},
   "source": [
    "- 데이터가 복잡하고 양이 많다면 클라우드환경(ex코랩, 구글 드라이브)에 업로드하는 시간이 오래 걸림\n",
    "- 로컬 환경인 쥬피터 노트북으로 빠르게 전처리(수치화)하고 그 결과를 NPZ(numpy  zip)파일로 저장\n",
    "- 저장된 NPZ파일을 원하는 환경으로 불러와서 사용하기!-"
   ]
  },
  {
   "cell_type": "code",
   "execution_count": 1,
   "id": "92932bf6",
   "metadata": {},
   "outputs": [],
   "source": [
    "import numpy as np\n",
    "import pandas as pd\n",
    "import matplotlib.pyplot as plt\n",
    "from PIL import Image\n",
    "# os : 파일 및 폴터 처리에 관련된 라이브러리\n",
    "import os"
   ]
  },
  {
   "cell_type": "code",
   "execution_count": 2,
   "id": "cf5bc94d",
   "metadata": {},
   "outputs": [],
   "source": [
    "# cats_and_dogs_filtered 폴더 내에 각각 데이터 셋들의 경로를 설정\n",
    "train_cats_dir = './data/cats_and_dogs_filtered/train/cats/'\n",
    "train_dogs_dir = './data/cats_and_dogs_filtered/train/dogs/'\n",
    "test_cats_dir = './data/cats_and_dogs_filtered/test/cats/'\n",
    "test_dogs_dir = './data/cats_and_dogs_filtered/test/dogs/'"
   ]
  },
  {
   "cell_type": "code",
   "execution_count": 3,
   "id": "5e8cf20b",
   "metadata": {},
   "outputs": [],
   "source": [
    "# os.listdir : 해당 경로에 있는 파일명들을 리스트의 순서대로 저장해주는 명령\n",
    "train_cats_fname = os.listdir(train_cats_dir)\n",
    "train_dogs_fname = os.listdir(train_dogs_dir)\n",
    "test_cats_fname = os.listdir(test_cats_dir)\n",
    "test_dogs_fname = os.listdir(test_dogs_dir)"
   ]
  },
  {
   "cell_type": "code",
   "execution_count": 4,
   "id": "58efea2c",
   "metadata": {},
   "outputs": [
    {
     "data": {
      "text/plain": [
       "'./data/cats_and_dogs_filtered/test/cats/cat.2000.jpg'"
      ]
     },
     "execution_count": 4,
     "metadata": {},
     "output_type": "execute_result"
    }
   ],
   "source": [
    "# os.path.join : 파일 경로와 파일(이미지) 이름을 결합\n",
    "test_path = os.path.join(test_cats_dir, test_cats_fname[0])\n",
    "test_path"
   ]
  },
  {
   "cell_type": "code",
   "execution_count": 5,
   "id": "d98f9504",
   "metadata": {},
   "outputs": [],
   "source": [
    "# 사진을 로딩하는 함수\n",
    "# 사진 크기는 신경망에 넣기 위해서 일정하게 고정(224 X 224로 고정)\n",
    "def load_images(folder_path, file_names, img_size_shape=(224,224)):\n",
    "    images = []\n",
    "    \n",
    "    for i in file_names :\n",
    "        # 폴더 경로 + 파일명 합치기\n",
    "        path = os.path.join(folder_path, i)\n",
    "        # 파일 오픈 및 크기 조정\n",
    "        # resize : 파일 형태(사이즈)를 변형시켜주는 명령\n",
    "        img = Image.open(path).resize(img_size_shape)\n",
    "        # numpy 배열로 변경후 리스트에 저장\n",
    "        images.append(np.array(img))\n",
    "    \n",
    "    return np.array(images)"
   ]
  },
  {
   "cell_type": "code",
   "execution_count": 6,
   "id": "8b954585",
   "metadata": {},
   "outputs": [],
   "source": [
    "X_train_cats = load_images(train_cats_dir, train_cats_fname)\n",
    "X_train_dogs = load_images(train_dogs_dir, train_dogs_fname)\n",
    "X_test_cats = load_images(test_cats_dir, test_cats_fname)\n",
    "X_test_dogs = load_images(test_dogs_dir, test_dogs_fname)"
   ]
  },
  {
   "cell_type": "code",
   "execution_count": 18,
   "id": "596330dd",
   "metadata": {},
   "outputs": [
    {
     "name": "stdout",
     "output_type": "stream",
     "text": [
      "(1000, 224, 224, 3)\n",
      "(1000, 224, 224, 3)\n",
      "(500, 224, 224, 3)\n",
      "(500, 224, 224, 3)\n"
     ]
    }
   ],
   "source": [
    "print(X_train_cats.shape)\n",
    "print(X_train_dogs.shape)\n",
    "print(X_test_cats.shape)\n",
    "print(X_test_dogs.shape)"
   ]
  },
  {
   "cell_type": "code",
   "execution_count": 19,
   "id": "36c12506",
   "metadata": {},
   "outputs": [],
   "source": [
    "# 데이터 병합\n",
    "# 고양이, 개 이미지 배열 데이터를 순서대로 합쳐줌\n",
    "X_train = np.concatenate((X_train_cats, X_train_dogs))\n",
    "X_test = np.concatenate((X_test_cats, X_test_dogs))"
   ]
  },
  {
   "cell_type": "code",
   "execution_count": 20,
   "id": "aca0774d",
   "metadata": {},
   "outputs": [
    {
     "data": {
      "text/plain": [
       "((2000, 224, 224, 3), (1000, 224, 224, 3))"
      ]
     },
     "execution_count": 20,
     "metadata": {},
     "output_type": "execute_result"
    }
   ],
   "source": [
    "X_train.shape, X_test.shape"
   ]
  },
  {
   "cell_type": "code",
   "execution_count": 21,
   "id": "a004cd2d",
   "metadata": {},
   "outputs": [],
   "source": [
    "# 정답 데이터 만들기 (고양이 : 0, 개 :1)\n",
    "y_train = np.array([0]*1000 + [1]*1000)\n",
    "y_test = np.array([0]*500 + [1]*500)"
   ]
  },
  {
   "cell_type": "code",
   "execution_count": 22,
   "id": "08873853",
   "metadata": {},
   "outputs": [
    {
     "data": {
      "text/plain": [
       "((2000,), (1000,))"
      ]
     },
     "execution_count": 22,
     "metadata": {},
     "output_type": "execute_result"
    }
   ],
   "source": [
    "y_train.shape, y_test.shape"
   ]
  },
  {
   "cell_type": "markdown",
   "id": "2d7f12d2",
   "metadata": {},
   "source": [
    "#### NPZ 파일로 변환"
   ]
  },
  {
   "cell_type": "code",
   "execution_count": 23,
   "id": "d91e581e",
   "metadata": {},
   "outputs": [],
   "source": [
    "np.savez_compressed('./data/cat_dags.npz',  # 폴더 경로와 파일명 설정\n",
    "                    X_train = X_train,\n",
    "                    y_test = y_test,\n",
    "                    y_train = y_train,\n",
    "                    X_test = X_test\n",
    "                   )"
   ]
  },
  {
   "cell_type": "code",
   "execution_count": null,
   "id": "39ef6c42",
   "metadata": {},
   "outputs": [],
   "source": []
  }
 ],
 "metadata": {
  "kernelspec": {
   "display_name": "Python 3",
   "language": "python",
   "name": "python3"
  },
  "language_info": {
   "codemirror_mode": {
    "name": "ipython",
    "version": 3
   },
   "file_extension": ".py",
   "mimetype": "text/x-python",
   "name": "python",
   "nbconvert_exporter": "python",
   "pygments_lexer": "ipython3",
   "version": "3.8.8"
  }
 },
 "nbformat": 4,
 "nbformat_minor": 5
}
