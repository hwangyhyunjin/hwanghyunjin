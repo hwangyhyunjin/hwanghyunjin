{
 "cells": [
  {
   "cell_type": "code",
   "execution_count": 1,
   "id": "c0b6edaa",
   "metadata": {},
   "outputs": [],
   "source": [
    "import numpy as np\n",
    "import pandas as pd\n",
    "import matplotlib.pyplot as plt"
   ]
  },
  {
   "cell_type": "code",
   "execution_count": 2,
   "id": "7357bf53",
   "metadata": {},
   "outputs": [
    {
     "data": {
      "text/html": [
       "<div>\n",
       "<style scoped>\n",
       "    .dataframe tbody tr th:only-of-type {\n",
       "        vertical-align: middle;\n",
       "    }\n",
       "\n",
       "    .dataframe tbody tr th {\n",
       "        vertical-align: top;\n",
       "    }\n",
       "\n",
       "    .dataframe thead th {\n",
       "        text-align: right;\n",
       "    }\n",
       "</style>\n",
       "<table border=\"1\" class=\"dataframe\">\n",
       "  <thead>\n",
       "    <tr style=\"text-align: right;\">\n",
       "      <th></th>\n",
       "      <th>시간</th>\n",
       "      <th>성적</th>\n",
       "    </tr>\n",
       "  </thead>\n",
       "  <tbody>\n",
       "    <tr>\n",
       "      <th>0</th>\n",
       "      <td>9</td>\n",
       "      <td>90</td>\n",
       "    </tr>\n",
       "    <tr>\n",
       "      <th>1</th>\n",
       "      <td>8</td>\n",
       "      <td>80</td>\n",
       "    </tr>\n",
       "    <tr>\n",
       "      <th>2</th>\n",
       "      <td>4</td>\n",
       "      <td>40</td>\n",
       "    </tr>\n",
       "    <tr>\n",
       "      <th>3</th>\n",
       "      <td>2</td>\n",
       "      <td>20</td>\n",
       "    </tr>\n",
       "  </tbody>\n",
       "</table>\n",
       "</div>"
      ],
      "text/plain": [
       "   시간  성적\n",
       "0   9  90\n",
       "1   8  80\n",
       "2   4  40\n",
       "3   2  20"
      ]
     },
     "execution_count": 2,
     "metadata": {},
     "output_type": "execute_result"
    }
   ],
   "source": [
    "#DataFrame 형태로 성적데이터 만들기\n",
    "#시간,성적\n",
    "data = pd.DataFrame([[9,90],\n",
    "             [8,80],\n",
    "             [4,40],\n",
    "             [2,20]], columns =['시간', '성적'])\n",
    "data"
   ]
  },
  {
   "cell_type": "markdown",
   "id": "e5e4123e",
   "metadata": {},
   "source": [
    "## H(x) = w*x +b"
   ]
  },
  {
   "cell_type": "code",
   "execution_count": 3,
   "id": "d436d3e4",
   "metadata": {},
   "outputs": [],
   "source": [
    "def h(w, x, b):\n",
    "    return w * x + b"
   ]
  },
  {
   "cell_type": "markdown",
   "id": "07aaebee",
   "metadata": {},
   "source": [
    "### Cost (비용함수)\n",
    "- 평균제곱오차(MSE : Mean Squared Error)"
   ]
  },
  {
   "cell_type": "code",
   "execution_count": 4,
   "id": "683e7b0c",
   "metadata": {},
   "outputs": [],
   "source": [
    "def cost(data, target, weight, intercept):\n",
    "    y_pre = h(weight, data, intercept)  #예측값\n",
    "    return ((y_pre - target)**2).mean() #평균제곱오차(MSE)\n",
    "                    #((예측값 - 실제값)의 제곱)의 평균\n",
    "                    #값을 다 더해서 m으로 나눈 값과 위에 구한 평균값과 동일"
   ]
  },
  {
   "cell_type": "code",
   "execution_count": 5,
   "id": "6d64dda5",
   "metadata": {},
   "outputs": [
    {
     "data": {
      "text/plain": [
       "0.0"
      ]
     },
     "execution_count": 5,
     "metadata": {},
     "output_type": "execute_result"
    }
   ],
   "source": [
    "#     문제, target(답), 가중치, 절편\n",
    "cost(data['시간'], data['성적'], 10, 0)"
   ]
  },
  {
   "cell_type": "markdown",
   "id": "f85a1f00",
   "metadata": {},
   "source": [
    "## 수학 공식을 이용한 해석적 모델\n",
    "-LinearRegression"
   ]
  },
  {
   "cell_type": "code",
   "execution_count": 6,
   "id": "32673c52",
   "metadata": {},
   "outputs": [],
   "source": [
    "from sklearn.linear_model import LinearRegression"
   ]
  },
  {
   "cell_type": "code",
   "execution_count": 7,
   "id": "d2139e12",
   "metadata": {},
   "outputs": [],
   "source": [
    "l_model = LinearRegression()"
   ]
  },
  {
   "cell_type": "code",
   "execution_count": 8,
   "id": "60b40e43",
   "metadata": {},
   "outputs": [
    {
     "data": {
      "text/plain": [
       "LinearRegression()"
      ]
     },
     "execution_count": 8,
     "metadata": {},
     "output_type": "execute_result"
    }
   ],
   "source": [
    "# 문제는 2차원데이터로 넣어줌 -> data[['시간']]\n",
    "l_model.fit(data[['시간']], data['성적'])"
   ]
  },
  {
   "cell_type": "code",
   "execution_count": 9,
   "id": "ad4671cc",
   "metadata": {},
   "outputs": [
    {
     "name": "stdout",
     "output_type": "stream",
     "text": [
      "[10.]\n",
      "-7.105427357601002e-15\n"
     ]
    }
   ],
   "source": [
    "#w(가중치)\n",
    "print(l_model.coef_)\n",
    "\n",
    "# 절편\n",
    "print(l_model.intercept_)"
   ]
  },
  {
   "cell_type": "code",
   "execution_count": 10,
   "id": "5d585b11",
   "metadata": {},
   "outputs": [
    {
     "data": {
      "text/plain": [
       "array([70.])"
      ]
     },
     "execution_count": 10,
     "metadata": {},
     "output_type": "execute_result"
    }
   ],
   "source": [
    "#예측\n",
    "l_model.predict([[7]])"
   ]
  },
  {
   "cell_type": "markdown",
   "id": "d53c3de5",
   "metadata": {},
   "source": [
    "## 경사하강법"
   ]
  },
  {
   "cell_type": "code",
   "execution_count": 11,
   "id": "b7a4d565",
   "metadata": {},
   "outputs": [],
   "source": [
    "weight_arr = range(-10, 31)"
   ]
  },
  {
   "cell_type": "code",
   "execution_count": 12,
   "id": "1a65b360",
   "metadata": {
    "collapsed": true
   },
   "outputs": [
    {
     "data": {
      "text/plain": [
       "[16500.0,\n",
       " 14891.25,\n",
       " 13365.0,\n",
       " 11921.25,\n",
       " 10560.0,\n",
       " 9281.25,\n",
       " 8085.0,\n",
       " 6971.25,\n",
       " 5940.0,\n",
       " 4991.25,\n",
       " 4125.0,\n",
       " 3341.25,\n",
       " 2640.0,\n",
       " 2021.25,\n",
       " 1485.0,\n",
       " 1031.25,\n",
       " 660.0,\n",
       " 371.25,\n",
       " 165.0,\n",
       " 41.25,\n",
       " 0.0,\n",
       " 41.25,\n",
       " 165.0,\n",
       " 371.25,\n",
       " 660.0,\n",
       " 1031.25,\n",
       " 1485.0,\n",
       " 2021.25,\n",
       " 2640.0,\n",
       " 3341.25,\n",
       " 4125.0,\n",
       " 4991.25,\n",
       " 5940.0,\n",
       " 6971.25,\n",
       " 8085.0,\n",
       " 9281.25,\n",
       " 10560.0,\n",
       " 11921.25,\n",
       " 13365.0,\n",
       " 14891.25,\n",
       " 16500.0]"
      ]
     },
     "execution_count": 12,
     "metadata": {},
     "output_type": "execute_result"
    }
   ],
   "source": [
    "cost_list = []\n",
    "\n",
    "for i in weight_arr:\n",
    "    c = cost(data['시간'], data['성적'],i , 0)\n",
    "    cost_list.append(c)\n",
    "cost_list"
   ]
  },
  {
   "cell_type": "code",
   "execution_count": 13,
   "id": "ad65d7d6",
   "metadata": {},
   "outputs": [
    {
     "data": {
      "image/png": "[encoded data removed]",
      "text/plain": [
       "<Figure size 432x288 with 1 Axes>"
      ]
     },
     "metadata": {
      "needs_background": "light"
     },
     "output_type": "display_data"
    }
   ],
   "source": [
    "plt.plot(weight_arr, cost_list)\n",
    "plt.show()"
   ]
  },
  {
   "cell_type": "markdown",
   "id": "e847a651",
   "metadata": {},
   "source": [
    "## SGDRegressor 사용하기(경사하강법)"
   ]
  },
  {
   "cell_type": "code",
   "execution_count": 14,
   "id": "7b58c824",
   "metadata": {},
   "outputs": [],
   "source": [
    "from sklearn.linear_model import SGDRegressor"
   ]
  },
  {
   "cell_type": "code",
   "execution_count": 15,
   "id": "b09b352f",
   "metadata": {},
   "outputs": [],
   "source": [
    "sgd_model = SGDRegressor(max_iter =1000, #가중치 업데이트 반복 횟수->모델이 복잡해진다 ->과대적합\n",
    "                        eta0 = 0.01, #학습률(Learning rate)\n",
    "                        verbose = 1) #학습 과정을 확인할 수 있는 파라미터\n",
    "                                    #1 :확인가능, 0: 확인불가                                     "
   ]
  },
  {
   "cell_type": "code",
   "execution_count": 16,
   "id": "b1ea1e79",
   "metadata": {},
   "outputs": [
    {
     "name": "stdout",
     "output_type": "stream",
     "text": [
      "-- Epoch 1\n",
      "Norm: 8.14, NNZs: 1, Bias: 1.288074, T: 4, Avg. loss: 922.469066\n",
      "Total training time: 0.00 seconds.\n",
      "-- Epoch 2\n",
      "Norm: 9.40, NNZs: 1, Bias: 1.440817, T: 8, Avg. loss: 33.053536\n",
      "Total training time: 0.00 seconds.\n",
      "-- Epoch 3\n",
      "Norm: 9.68, NNZs: 1, Bias: 1.475028, T: 12, Avg. loss: 2.300967\n",
      "Total training time: 0.00 seconds.\n",
      "-- Epoch 4\n",
      "Norm: 9.75, NNZs: 1, Bias: 1.477605, T: 16, Avg. loss: 0.456393\n",
      "Total training time: 0.00 seconds.\n",
      "-- Epoch 5\n",
      "Norm: 9.79, NNZs: 1, Bias: 1.477504, T: 20, Avg. loss: 0.267811\n",
      "Total training time: 0.00 seconds.\n",
      "-- Epoch 6\n",
      "Norm: 9.79, NNZs: 1, Bias: 1.472202, T: 24, Avg. loss: 0.232074\n",
      "Total training time: 0.00 seconds.\n",
      "-- Epoch 7\n",
      "Norm: 9.80, NNZs: 1, Bias: 1.468490, T: 28, Avg. loss: 0.232319\n",
      "Total training time: 0.00 seconds.\n",
      "-- Epoch 8\n",
      "Norm: 9.79, NNZs: 1, Bias: 1.462509, T: 32, Avg. loss: 0.222806\n",
      "Total training time: 0.00 seconds.\n",
      "-- Epoch 9\n",
      "Norm: 9.80, NNZs: 1, Bias: 1.459064, T: 36, Avg. loss: 0.225352\n",
      "Total training time: 0.00 seconds.\n",
      "-- Epoch 10\n",
      "Norm: 9.80, NNZs: 1, Bias: 1.453577, T: 40, Avg. loss: 0.220575\n",
      "Total training time: 0.00 seconds.\n",
      "-- Epoch 11\n",
      "Norm: 9.80, NNZs: 1, Bias: 1.449815, T: 44, Avg. loss: 0.222692\n",
      "Total training time: 0.00 seconds.\n",
      "-- Epoch 12\n",
      "Norm: 9.80, NNZs: 1, Bias: 1.444439, T: 48, Avg. loss: 0.216335\n",
      "Total training time: 0.00 seconds.\n",
      "-- Epoch 13\n",
      "Norm: 9.80, NNZs: 1, Bias: 1.441166, T: 52, Avg. loss: 0.218369\n",
      "Total training time: 0.00 seconds.\n",
      "-- Epoch 14\n",
      "Norm: 9.80, NNZs: 1, Bias: 1.436239, T: 56, Avg. loss: 0.214643\n",
      "Total training time: 0.00 seconds.\n",
      "-- Epoch 15\n",
      "Norm: 9.81, NNZs: 1, Bias: 1.432754, T: 60, Avg. loss: 0.216283\n",
      "Total training time: 0.00 seconds.\n",
      "-- Epoch 16\n",
      "Norm: 9.80, NNZs: 1, Bias: 1.427875, T: 64, Avg. loss: 0.211002\n",
      "Total training time: 0.00 seconds.\n",
      "-- Epoch 17\n",
      "Norm: 9.81, NNZs: 1, Bias: 1.424787, T: 68, Avg. loss: 0.212631\n",
      "Total training time: 0.00 seconds.\n",
      "-- Epoch 18\n",
      "Norm: 9.80, NNZs: 1, Bias: 1.420266, T: 72, Avg. loss: 0.209430\n",
      "Total training time: 0.00 seconds.\n",
      "-- Epoch 19\n",
      "Norm: 9.81, NNZs: 1, Bias: 1.416993, T: 76, Avg. loss: 0.210768\n",
      "Total training time: 0.00 seconds.\n",
      "-- Epoch 20\n",
      "Norm: 9.80, NNZs: 1, Bias: 1.412478, T: 80, Avg. loss: 0.206178\n",
      "Total training time: 0.00 seconds.\n",
      "-- Epoch 21\n",
      "Norm: 9.81, NNZs: 1, Bias: 1.409539, T: 84, Avg. loss: 0.207535\n",
      "Total training time: 0.00 seconds.\n",
      "-- Epoch 22\n",
      "Norm: 9.80, NNZs: 1, Bias: 1.405322, T: 88, Avg. loss: 0.204693\n",
      "Total training time: 0.00 seconds.\n",
      "-- Epoch 23\n",
      "Norm: 9.81, NNZs: 1, Bias: 1.402218, T: 92, Avg. loss: 0.205821\n",
      "Total training time: 0.00 seconds.\n",
      "-- Epoch 24\n",
      "Norm: 9.80, NNZs: 1, Bias: 1.397984, T: 96, Avg. loss: 0.201729\n",
      "Total training time: 0.00 seconds.\n",
      "-- Epoch 25\n",
      "Norm: 9.81, NNZs: 1, Bias: 1.395169, T: 100, Avg. loss: 0.202891\n",
      "Total training time: 0.00 seconds.\n",
      "-- Epoch 26\n",
      "Norm: 9.81, NNZs: 1, Bias: 1.391193, T: 104, Avg. loss: 0.200318\n",
      "Total training time: 0.00 seconds.\n",
      "-- Epoch 27\n",
      "Norm: 9.81, NNZs: 1, Bias: 1.388227, T: 108, Avg. loss: 0.201289\n",
      "Total training time: 0.00 seconds.\n",
      "-- Epoch 28\n",
      "Norm: 9.81, NNZs: 1, Bias: 1.384222, T: 112, Avg. loss: 0.197578\n",
      "Total training time: 0.00 seconds.\n",
      "-- Epoch 29\n",
      "Norm: 9.81, NNZs: 1, Bias: 1.381511, T: 116, Avg. loss: 0.198591\n",
      "Total training time: 0.00 seconds.\n",
      "-- Epoch 30\n",
      "Norm: 9.81, NNZs: 1, Bias: 1.377735, T: 120, Avg. loss: 0.196230\n",
      "Total training time: 0.00 seconds.\n",
      "-- Epoch 31\n",
      "Norm: 9.81, NNZs: 1, Bias: 1.374886, T: 124, Avg. loss: 0.197080\n",
      "Total training time: 0.00 seconds.\n",
      "-- Epoch 32\n",
      "Norm: 9.81, NNZs: 1, Bias: 1.371071, T: 128, Avg. loss: 0.193673\n",
      "Total training time: 0.00 seconds.\n",
      "-- Epoch 33\n",
      "Norm: 9.81, NNZs: 1, Bias: 1.368452, T: 132, Avg. loss: 0.194570\n",
      "Total training time: 0.00 seconds.\n",
      "-- Epoch 34\n",
      "Norm: 9.81, NNZs: 1, Bias: 1.364844, T: 136, Avg. loss: 0.192381\n",
      "Total training time: 0.00 seconds.\n",
      "-- Epoch 35\n",
      "Norm: 9.81, NNZs: 1, Bias: 1.362096, T: 140, Avg. loss: 0.193134\n",
      "Total training time: 0.00 seconds.\n",
      "-- Epoch 36\n",
      "Norm: 9.81, NNZs: 1, Bias: 1.358444, T: 144, Avg. loss: 0.189977\n",
      "Total training time: 0.00 seconds.\n",
      "-- Epoch 37\n",
      "Norm: 9.81, NNZs: 1, Bias: 1.355908, T: 148, Avg. loss: 0.190779\n",
      "Total training time: 0.00 seconds.\n",
      "-- Epoch 38\n",
      "Norm: 9.81, NNZs: 1, Bias: 1.352445, T: 152, Avg. loss: 0.188735\n",
      "Total training time: 0.00 seconds.\n",
      "-- Epoch 39\n",
      "Norm: 9.81, NNZs: 1, Bias: 1.349787, T: 156, Avg. loss: 0.189408\n",
      "Total training time: 0.00 seconds.\n",
      "-- Epoch 40\n",
      "Norm: 9.81, NNZs: 1, Bias: 1.346277, T: 160, Avg. loss: 0.186462\n",
      "Total training time: 0.01 seconds.\n",
      "-- Epoch 41\n",
      "Norm: 9.82, NNZs: 1, Bias: 1.343813, T: 164, Avg. loss: 0.187186\n",
      "Total training time: 0.01 seconds.\n",
      "-- Epoch 42\n",
      "Norm: 9.81, NNZs: 1, Bias: 1.340478, T: 168, Avg. loss: 0.185264\n",
      "Total training time: 0.01 seconds.\n",
      "-- Epoch 43\n",
      "Norm: 9.82, NNZs: 1, Bias: 1.337900, T: 172, Avg. loss: 0.185871\n",
      "Total training time: 0.01 seconds.\n",
      "-- Epoch 44\n",
      "Norm: 9.81, NNZs: 1, Bias: 1.334516, T: 176, Avg. loss: 0.183107\n",
      "Total training time: 0.01 seconds.\n",
      "-- Epoch 45\n",
      "Norm: 9.82, NNZs: 1, Bias: 1.332118, T: 180, Avg. loss: 0.183764\n",
      "Total training time: 0.01 seconds.\n",
      "-- Epoch 46\n",
      "Norm: 9.81, NNZs: 1, Bias: 1.328897, T: 184, Avg. loss: 0.181949\n",
      "Total training time: 0.01 seconds.\n",
      "-- Epoch 47\n",
      "Norm: 9.82, NNZs: 1, Bias: 1.326391, T: 188, Avg. loss: 0.182500\n",
      "Total training time: 0.01 seconds.\n",
      "-- Epoch 48\n",
      "Norm: 9.81, NNZs: 1, Bias: 1.323120, T: 192, Avg. loss: 0.179893\n",
      "Total training time: 0.01 seconds.\n",
      "-- Epoch 49\n",
      "Norm: 9.82, NNZs: 1, Bias: 1.320783, T: 196, Avg. loss: 0.180493\n",
      "Total training time: 0.01 seconds.\n",
      "-- Epoch 50\n",
      "Norm: 9.82, NNZs: 1, Bias: 1.317663, T: 200, Avg. loss: 0.178772\n",
      "Total training time: 0.01 seconds.\n",
      "-- Epoch 51\n",
      "Norm: 9.82, NNZs: 1, Bias: 1.315224, T: 204, Avg. loss: 0.179274\n",
      "Total training time: 0.01 seconds.\n",
      "-- Epoch 52\n",
      "Norm: 9.82, NNZs: 1, Bias: 1.312054, T: 208, Avg. loss: 0.176806\n",
      "Total training time: 0.01 seconds.\n",
      "-- Epoch 53\n",
      "Norm: 9.82, NNZs: 1, Bias: 1.309773, T: 212, Avg. loss: 0.177357\n",
      "Total training time: 0.01 seconds.\n",
      "-- Epoch 54\n",
      "Norm: 9.82, NNZs: 1, Bias: 1.306746, T: 216, Avg. loss: 0.175720\n",
      "Total training time: 0.01 seconds.\n",
      "-- Epoch 55\n",
      "Norm: 9.82, NNZs: 1, Bias: 1.304368, T: 220, Avg. loss: 0.176180\n",
      "Total training time: 0.01 seconds.\n",
      "-- Epoch 56\n",
      "Norm: 9.82, NNZs: 1, Bias: 1.301290, T: 224, Avg. loss: 0.173836\n",
      "Total training time: 0.01 seconds.\n",
      "-- Epoch 57\n",
      "Norm: 9.82, NNZs: 1, Bias: 1.299060, T: 228, Avg. loss: 0.174344\n",
      "Total training time: 0.01 seconds.\n",
      "-- Epoch 58\n",
      "Norm: 9.82, NNZs: 1, Bias: 1.296119, T: 232, Avg. loss: 0.172782\n",
      "Total training time: 0.01 seconds.\n",
      "-- Epoch 59\n",
      "Norm: 9.82, NNZs: 1, Bias: 1.293797, T: 236, Avg. loss: 0.173205\n",
      "Total training time: 0.01 seconds.\n",
      "-- Epoch 60\n",
      "Norm: 9.82, NNZs: 1, Bias: 1.290803, T: 240, Avg. loss: 0.170971\n",
      "Total training time: 0.01 seconds.\n",
      "-- Epoch 61\n",
      "Norm: 9.82, NNZs: 1, Bias: 1.288622, T: 244, Avg. loss: 0.171441\n",
      "Total training time: 0.01 seconds.\n",
      "-- Epoch 62\n",
      "Norm: 9.82, NNZs: 1, Bias: 1.285759, T: 248, Avg. loss: 0.169947\n",
      "Total training time: 0.01 seconds.\n",
      "-- Epoch 63\n",
      "Norm: 9.82, NNZs: 1, Bias: 1.283489, T: 252, Avg. loss: 0.170338\n",
      "Total training time: 0.01 seconds.\n",
      "-- Epoch 64\n",
      "Norm: 9.82, NNZs: 1, Bias: 1.280574, T: 256, Avg. loss: 0.168204\n",
      "Total training time: 0.01 seconds.\n",
      "-- Epoch 65\n",
      "Norm: 9.82, NNZs: 1, Bias: 1.278438, T: 260, Avg. loss: 0.168641\n",
      "Total training time: 0.01 seconds.\n",
      "-- Epoch 66\n",
      "Norm: 9.82, NNZs: 1, Bias: 1.275647, T: 264, Avg. loss: 0.167208\n",
      "Total training time: 0.01 seconds.\n",
      "-- Epoch 67\n",
      "Norm: 9.82, NNZs: 1, Bias: 1.273426, T: 268, Avg. loss: 0.167570\n",
      "Total training time: 0.01 seconds.\n",
      "-- Epoch 68\n",
      "Norm: 9.82, NNZs: 1, Bias: 1.270583, T: 272, Avg. loss: 0.165528\n",
      "Total training time: 0.01 seconds.\n",
      "-- Epoch 69\n",
      "Norm: 9.83, NNZs: 1, Bias: 1.268490, T: 276, Avg. loss: 0.165934\n",
      "Total training time: 0.01 seconds.\n",
      "-- Epoch 70\n",
      "Norm: 9.82, NNZs: 1, Bias: 1.265766, T: 280, Avg. loss: 0.164558\n",
      "Total training time: 0.01 seconds.\n",
      "-- Epoch 71\n",
      "Norm: 9.83, NNZs: 1, Bias: 1.263590, T: 284, Avg. loss: 0.164893\n",
      "Total training time: 0.01 seconds.\n",
      "-- Epoch 72\n",
      "Norm: 9.82, NNZs: 1, Bias: 1.260816, T: 288, Avg. loss: 0.162935\n",
      "Total training time: 0.01 seconds.\n",
      "-- Epoch 73\n",
      "Norm: 9.83, NNZs: 1, Bias: 1.258762, T: 292, Avg. loss: 0.163314\n",
      "Total training time: 0.01 seconds.\n",
      "-- Epoch 74\n",
      "Norm: 9.83, NNZs: 1, Bias: 1.256101, T: 296, Avg. loss: 0.161990\n",
      "Total training time: 0.01 seconds.\n",
      "-- Epoch 75\n",
      "Norm: 9.83, NNZs: 1, Bias: 1.253969, T: 300, Avg. loss: 0.162302\n",
      "Total training time: 0.01 seconds.\n",
      "-- Epoch 76\n",
      "Norm: 9.83, NNZs: 1, Bias: 1.251257, T: 304, Avg. loss: 0.160420\n",
      "Total training time: 0.01 seconds.\n",
      "-- Epoch 77\n",
      "Norm: 9.83, NNZs: 1, Bias: 1.249242, T: 308, Avg. loss: 0.160775\n",
      "Total training time: 0.01 seconds.\n",
      "-- Epoch 78\n",
      "Norm: 9.83, NNZs: 1, Bias: 1.246639, T: 312, Avg. loss: 0.159499\n",
      "Total training time: 0.01 seconds.\n",
      "-- Epoch 79\n",
      "Norm: 9.83, NNZs: 1, Bias: 1.244548, T: 316, Avg. loss: 0.159790\n",
      "Total training time: 0.01 seconds.\n",
      "-- Epoch 80\n",
      "Norm: 9.83, NNZs: 1, Bias: 1.241896, T: 320, Avg. loss: 0.157979\n",
      "Total training time: 0.01 seconds.\n",
      "-- Epoch 81\n",
      "Norm: 9.83, NNZs: 1, Bias: 1.239916, T: 324, Avg. loss: 0.158312\n",
      "Total training time: 0.01 seconds.\n",
      "-- Epoch 82\n",
      "Norm: 9.83, NNZs: 1, Bias: 1.237369, T: 328, Avg. loss: 0.157080\n",
      "Total training time: 0.01 seconds.\n",
      "-- Epoch 83\n",
      "Norm: 9.83, NNZs: 1, Bias: 1.235316, T: 332, Avg. loss: 0.157352\n",
      "Total training time: 0.01 seconds.\n",
      "-- Epoch 84\n",
      "Norm: 9.83, NNZs: 1, Bias: 1.232720, T: 336, Avg. loss: 0.155607\n",
      "Total training time: 0.01 seconds.\n",
      "-- Epoch 85\n",
      "Norm: 9.83, NNZs: 1, Bias: 1.230775, T: 340, Avg. loss: 0.155920\n",
      "Total training time: 0.01 seconds.\n",
      "-- Epoch 86\n",
      "Norm: 9.83, NNZs: 1, Bias: 1.228280, T: 344, Avg. loss: 0.154730\n",
      "Total training time: 0.01 seconds.\n",
      "-- Epoch 87\n",
      "Norm: 9.83, NNZs: 1, Bias: 1.226264, T: 348, Avg. loss: 0.154984\n",
      "Total training time: 0.01 seconds.\n",
      "-- Epoch 88\n",
      "Norm: 9.83, NNZs: 1, Bias: 1.223720, T: 352, Avg. loss: 0.153300\n",
      "Total training time: 0.01 seconds.\n",
      "-- Epoch 89\n",
      "Norm: 9.83, NNZs: 1, Bias: 1.221808, T: 356, Avg. loss: 0.153594\n",
      "Total training time: 0.01 seconds.\n",
      "-- Epoch 90\n",
      "Norm: 9.83, NNZs: 1, Bias: 1.219362, T: 360, Avg. loss: 0.152443\n",
      "Total training time: 0.01 seconds.\n",
      "-- Epoch 91\n",
      "Norm: 9.83, NNZs: 1, Bias: 1.217381, T: 364, Avg. loss: 0.152681\n",
      "Total training time: 0.01 seconds.\n",
      "-- Epoch 92\n",
      "Norm: 9.83, NNZs: 1, Bias: 1.214888, T: 368, Avg. loss: 0.151055\n",
      "Total training time: 0.01 seconds.\n",
      "-- Epoch 93\n",
      "Norm: 9.83, NNZs: 1, Bias: 1.213006, T: 372, Avg. loss: 0.151331\n",
      "Total training time: 0.01 seconds.\n",
      "-- Epoch 94\n",
      "Norm: 9.83, NNZs: 1, Bias: 1.210608, T: 376, Avg. loss: 0.150217\n",
      "Total training time: 0.01 seconds.\n",
      "-- Epoch 95\n",
      "Norm: 9.83, NNZs: 1, Bias: 1.208660, T: 380, Avg. loss: 0.150440\n",
      "Total training time: 0.01 seconds.\n",
      "-- Epoch 96\n",
      "Norm: 9.83, NNZs: 1, Bias: 1.206214, T: 384, Avg. loss: 0.148867\n",
      "Total training time: 0.01 seconds.\n",
      "-- Epoch 97\n",
      "Norm: 9.83, NNZs: 1, Bias: 1.204363, T: 388, Avg. loss: 0.149129\n",
      "Total training time: 0.01 seconds.\n",
      "-- Epoch 98\n",
      "Norm: 9.83, NNZs: 1, Bias: 1.202008, T: 392, Avg. loss: 0.148048\n",
      "Total training time: 0.01 seconds.\n",
      "-- Epoch 99\n",
      "Norm: 9.83, NNZs: 1, Bias: 1.200092, T: 396, Avg. loss: 0.148258\n",
      "Total training time: 0.01 seconds.\n",
      "-- Epoch 100\n",
      "Norm: 9.83, NNZs: 1, Bias: 1.197692, T: 400, Avg. loss: 0.146735\n",
      "Total training time: 0.01 seconds.\n",
      "-- Epoch 101\n",
      "Norm: 9.84, NNZs: 1, Bias: 1.195869, T: 404, Avg. loss: 0.146982\n",
      "Total training time: 0.01 seconds.\n",
      "-- Epoch 102\n",
      "Norm: 9.83, NNZs: 1, Bias: 1.193557, T: 408, Avg. loss: 0.145934\n",
      "Total training time: 0.01 seconds.\n",
      "-- Epoch 103\n",
      "Norm: 9.84, NNZs: 1, Bias: 1.191672, T: 412, Avg. loss: 0.146131\n",
      "Total training time: 0.01 seconds.\n",
      "-- Epoch 104\n",
      "Norm: 9.83, NNZs: 1, Bias: 1.189314, T: 416, Avg. loss: 0.144656\n",
      "Total training time: 0.01 seconds.\n",
      "-- Epoch 105\n",
      "Norm: 9.84, NNZs: 1, Bias: 1.187519, T: 420, Avg. loss: 0.144890\n",
      "Total training time: 0.01 seconds.\n",
      "-- Epoch 106\n",
      "Norm: 9.83, NNZs: 1, Bias: 1.185248, T: 424, Avg. loss: 0.143872\n",
      "Total training time: 0.01 seconds.\n",
      "-- Epoch 107\n",
      "Norm: 9.84, NNZs: 1, Bias: 1.183392, T: 428, Avg. loss: 0.144058\n",
      "Total training time: 0.01 seconds.\n",
      "-- Epoch 108\n",
      "Norm: 9.84, NNZs: 1, Bias: 1.181076, T: 432, Avg. loss: 0.142627\n",
      "Total training time: 0.01 seconds.\n",
      "-- Epoch 109\n",
      "Norm: 9.84, NNZs: 1, Bias: 1.179307, T: 436, Avg. loss: 0.142848\n",
      "Total training time: 0.01 seconds.\n",
      "-- Epoch 110\n",
      "Norm: 9.84, NNZs: 1, Bias: 1.177075, T: 440, Avg. loss: 0.141859\n",
      "Total training time: 0.01 seconds.\n",
      "-- Epoch 111\n",
      "Norm: 9.84, NNZs: 1, Bias: 1.175246, T: 444, Avg. loss: 0.142034\n",
      "Total training time: 0.01 seconds.\n",
      "-- Epoch 112\n",
      "Norm: 9.84, NNZs: 1, Bias: 1.172970, T: 448, Avg. loss: 0.140646\n",
      "Total training time: 0.01 seconds.\n",
      "-- Epoch 113\n",
      "Norm: 9.84, NNZs: 1, Bias: 1.171227, T: 452, Avg. loss: 0.140855\n",
      "Total training time: 0.01 seconds.\n",
      "-- Epoch 114\n",
      "Norm: 9.84, NNZs: 1, Bias: 1.169031, T: 456, Avg. loss: 0.139894\n",
      "Total training time: 0.01 seconds.\n",
      "-- Epoch 115\n",
      "Norm: 9.84, NNZs: 1, Bias: 1.167230, T: 460, Avg. loss: 0.140059\n",
      "Total training time: 0.01 seconds.\n",
      "-- Epoch 116\n",
      "Norm: 9.84, NNZs: 1, Bias: 1.164991, T: 464, Avg. loss: 0.138710\n",
      "Total training time: 0.01 seconds.\n",
      "-- Epoch 117\n",
      "Norm: 9.84, NNZs: 1, Bias: 1.163273, T: 468, Avg. loss: 0.138909\n",
      "Total training time: 0.01 seconds.\n",
      "-- Epoch 118\n",
      "Norm: 9.84, NNZs: 1, Bias: 1.161113, T: 472, Avg. loss: 0.137974\n",
      "Total training time: 0.01 seconds.\n",
      "-- Epoch 119\n",
      "Norm: 9.84, NNZs: 1, Bias: 1.159338, T: 476, Avg. loss: 0.138129\n",
      "Total training time: 0.01 seconds.\n",
      "-- Epoch 120\n",
      "Norm: 9.84, NNZs: 1, Bias: 1.157135, T: 480, Avg. loss: 0.136819\n",
      "Total training time: 0.01 seconds.\n",
      "-- Epoch 121\n",
      "Norm: 9.84, NNZs: 1, Bias: 1.155441, T: 484, Avg. loss: 0.137007\n",
      "Total training time: 0.01 seconds.\n",
      "-- Epoch 122\n",
      "Norm: 9.84, NNZs: 1, Bias: 1.153315, T: 488, Avg. loss: 0.136097\n",
      "Total training time: 0.01 seconds.\n",
      "-- Epoch 123\n",
      "Norm: 9.84, NNZs: 1, Bias: 1.151566, T: 492, Avg. loss: 0.136244\n",
      "Total training time: 0.01 seconds.\n",
      "-- Epoch 124\n",
      "Norm: 9.84, NNZs: 1, Bias: 1.149398, T: 496, Avg. loss: 0.134969\n",
      "Total training time: 0.01 seconds.\n",
      "-- Epoch 125\n",
      "Norm: 9.84, NNZs: 1, Bias: 1.147726, T: 500, Avg. loss: 0.135149\n",
      "Total training time: 0.01 seconds.\n",
      "-- Epoch 126\n",
      "Norm: 9.84, NNZs: 1, Bias: 1.145634, T: 504, Avg. loss: 0.134261\n",
      "Total training time: 0.01 seconds.\n",
      "-- Epoch 127\n",
      "Norm: 9.84, NNZs: 1, Bias: 1.143908, T: 508, Avg. loss: 0.134400\n",
      "Total training time: 0.01 seconds.\n",
      "-- Epoch 128\n",
      "Norm: 9.84, NNZs: 1, Bias: 1.141774, T: 512, Avg. loss: 0.133160\n",
      "Total training time: 0.01 seconds.\n",
      "-- Epoch 129\n",
      "Norm: 9.84, NNZs: 1, Bias: 1.140124, T: 516, Avg. loss: 0.133331\n",
      "Total training time: 0.01 seconds.\n",
      "-- Epoch 130\n",
      "Norm: 9.84, NNZs: 1, Bias: 1.138064, T: 520, Avg. loss: 0.132466\n",
      "Total training time: 0.01 seconds.\n",
      "-- Epoch 131\n",
      "Norm: 9.84, NNZs: 1, Bias: 1.136362, T: 524, Avg. loss: 0.132597\n",
      "Total training time: 0.01 seconds.\n",
      "-- Epoch 132\n",
      "Norm: 9.84, NNZs: 1, Bias: 1.134260, T: 528, Avg. loss: 0.131390\n",
      "Total training time: 0.01 seconds.\n",
      "-- Epoch 133\n",
      "Norm: 9.84, NNZs: 1, Bias: 1.132632, T: 532, Avg. loss: 0.131552\n",
      "Total training time: 0.01 seconds.\n",
      "-- Epoch 134\n",
      "Norm: 9.84, NNZs: 1, Bias: 1.130602, T: 536, Avg. loss: 0.130709\n",
      "Total training time: 0.01 seconds.\n",
      "-- Epoch 135\n",
      "Norm: 9.84, NNZs: 1, Bias: 1.128922, T: 540, Avg. loss: 0.130833\n",
      "Total training time: 0.01 seconds.\n",
      "-- Epoch 136\n",
      "Norm: 9.84, NNZs: 1, Bias: 1.126852, T: 544, Avg. loss: 0.129657\n",
      "Total training time: 0.01 seconds.\n",
      "-- Epoch 137\n",
      "Norm: 9.84, NNZs: 1, Bias: 1.125244, T: 548, Avg. loss: 0.129811\n",
      "Total training time: 0.01 seconds.\n",
      "-- Epoch 138\n",
      "Norm: 9.84, NNZs: 1, Bias: 1.123244, T: 552, Avg. loss: 0.128989\n",
      "Total training time: 0.01 seconds.\n",
      "-- Epoch 139\n",
      "Norm: 9.85, NNZs: 1, Bias: 1.121587, T: 556, Avg. loss: 0.129106\n",
      "Total training time: 0.01 seconds.\n",
      "-- Epoch 140\n",
      "Norm: 9.84, NNZs: 1, Bias: 1.119546, T: 560, Avg. loss: 0.127960\n",
      "Total training time: 0.01 seconds.\n",
      "-- Epoch 141\n",
      "Norm: 9.85, NNZs: 1, Bias: 1.117959, T: 564, Avg. loss: 0.128107\n",
      "Total training time: 0.01 seconds.\n",
      "-- Epoch 142\n",
      "Norm: 9.84, NNZs: 1, Bias: 1.115987, T: 568, Avg. loss: 0.127304\n",
      "Total training time: 0.01 seconds.\n",
      "-- Epoch 143\n",
      "Norm: 9.85, NNZs: 1, Bias: 1.114351, T: 572, Avg. loss: 0.127416\n",
      "Total training time: 0.01 seconds.\n",
      "-- Epoch 144\n",
      "Norm: 9.84, NNZs: 1, Bias: 1.112340, T: 576, Avg. loss: 0.126298\n",
      "Total training time: 0.01 seconds.\n",
      "-- Epoch 145\n",
      "Norm: 9.85, NNZs: 1, Bias: 1.110773, T: 580, Avg. loss: 0.126438\n",
      "Total training time: 0.01 seconds.\n",
      "-- Epoch 146\n",
      "Norm: 9.85, NNZs: 1, Bias: 1.108828, T: 584, Avg. loss: 0.125654\n",
      "Total training time: 0.01 seconds.\n",
      "-- Epoch 147\n",
      "Norm: 9.85, NNZs: 1, Bias: 1.107213, T: 588, Avg. loss: 0.125759\n",
      "Total training time: 0.01 seconds.\n",
      "-- Epoch 148\n",
      "Norm: 9.85, NNZs: 1, Bias: 1.105230, T: 592, Avg. loss: 0.124669\n",
      "Total training time: 0.01 seconds.\n",
      "-- Epoch 149\n",
      "Norm: 9.85, NNZs: 1, Bias: 1.103682, T: 596, Avg. loss: 0.124803\n",
      "Total training time: 0.02 seconds.\n",
      "Convergence after 149 epochs took 0.02 seconds\n"
     ]
    },
    {
     "data": {
      "text/plain": [
       "SGDRegressor(verbose=1)"
      ]
     },
     "execution_count": 16,
     "metadata": {},
     "output_type": "execute_result"
    }
   ],
   "source": [
    "sgd_model.fit(data[['시간']], data['성적'])"
   ]
  },
  {
   "cell_type": "code",
   "execution_count": 17,
   "id": "d62dadaa",
   "metadata": {},
   "outputs": [
    {
     "data": {
      "text/plain": [
       "array([70.03590812])"
      ]
     },
     "execution_count": 17,
     "metadata": {},
     "output_type": "execute_result"
    }
   ],
   "source": [
    "sgd_model.predict([[7]])"
   ]
  },
  {
   "cell_type": "markdown",
   "id": "b051f357",
   "metadata": {},
   "source": [
    "장점\n",
    "- 결과 예측(추론) 속도가 빠른다\n",
    "- 대용량 데이터에도 충분히 활용 가능하다.\n",
    "- 특성이 많은 데이터 세트라면 휼룡한 성능을 낼수 있다\n",
    "\n",
    "단점 \n",
    "- 특성이 적은 저차원 데이터에서는 다른 모델의 일반화 성능이 더 좋을 수 있다\n",
    " (특성 확장을 하기도 한다)\n",
    "- LinearRegressormodel복잡도를 제어할 방법이 없어 과대적합이 되기 쉽다\n",
    "- 모델 정규화를 통해 과대적합을 제어한다"
   ]
  },
  {
   "cell_type": "code",
   "execution_count": null,
   "id": "847b3d6a",
   "metadata": {},
   "outputs": [],
   "source": []
  }
 ],
 "metadata": {
  "kernelspec": {
   "display_name": "Python 3",
   "language": "python",
   "name": "python3"
  },
  "language_info": {
   "codemirror_mode": {
    "name": "ipython",
    "version": 3
   },
   "file_extension": ".py",
   "mimetype": "text/x-python",
   "name": "python",
   "nbconvert_exporter": "python",
   "pygments_lexer": "ipython3",
   "version": "3.8.8"
  }
 },
 "nbformat": 4,
 "nbformat_minor": 5
}
