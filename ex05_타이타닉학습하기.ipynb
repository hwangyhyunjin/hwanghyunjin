{
 "cells": [
  {
   "cell_type": "markdown",
   "id": "bf55d260",
   "metadata": {},
   "source": [
    "## 목표 \n",
    "- 타이타닉 데이터를 학습해서 생존자/사망자 예측하기\n",
    "- 머신러닝 전체과정 흐름을 경험해보기"
   ]
  },
  {
   "cell_type": "markdown",
   "id": "4929adc9",
   "metadata": {},
   "source": [
    "#### 머신러닝 과정\n",
    "1. 문제정의\n",
    "2. 데이터 수집\n",
    "3. 데이터 전처리(데이터 가공)\n",
    "4. 탐색적 데이터 분석(EDA)\n",
    "5. 모델선택 및 하이퍼파라미터 조정\n",
    "6. 모델 학습\n",
    "7. 모델 평가(점수가 낮은경우 2(데이터수집) 또는 3(전처리) 부터 다시반복)\n",
    "8. 서비스화"
   ]
  },
  {
   "cell_type": "markdown",
   "id": "d0b2cd41",
   "metadata": {},
   "source": [
    "## 1.문제정의\n",
    "- 탑승객 데이터를 바탕으로 생존자/사망자 분류 (지도학습)"
   ]
  },
  {
   "cell_type": "markdown",
   "id": "f458f8af",
   "metadata": {},
   "source": [
    "## 2.데이터 수집\n",
    "- Kaggle 사이트로부터 train, test, gender_submission 다운로드"
   ]
  },
  {
   "cell_type": "code",
   "execution_count": 1,
   "id": "029b81e3",
   "metadata": {},
   "outputs": [],
   "source": [
    "import pandas as pd\n",
    "import numpy as np\n",
    "import matplotlib.pyplot as plt\n",
    "import seaborn as sns"
   ]
  },
  {
   "cell_type": "code",
   "execution_count": 2,
   "id": "058c261e",
   "metadata": {},
   "outputs": [],
   "source": [
    "train = pd.read_csv('./data/titanic/train.csv')\n",
    "test = pd.read_csv('./data/titanic/test.csv')"
   ]
  },
  {
   "cell_type": "code",
   "execution_count": 3,
   "id": "0181c123",
   "metadata": {},
   "outputs": [
    {
     "data": {
      "text/html": [
       "<div>\n",
       "<style scoped>\n",
       "    .dataframe tbody tr th:only-of-type {\n",
       "        vertical-align: middle;\n",
       "    }\n",
       "\n",
       "    .dataframe tbody tr th {\n",
       "        vertical-align: top;\n",
       "    }\n",
       "\n",
       "    .dataframe thead th {\n",
       "        text-align: right;\n",
       "    }\n",
       "</style>\n",
       "<table border=\"1\" class=\"dataframe\">\n",
       "  <thead>\n",
       "    <tr style=\"text-align: right;\">\n",
       "      <th></th>\n",
       "      <th>PassengerId</th>\n",
       "      <th>Survived</th>\n",
       "      <th>Pclass</th>\n",
       "      <th>Name</th>\n",
       "      <th>Sex</th>\n",
       "      <th>Age</th>\n",
       "      <th>SibSp</th>\n",
       "      <th>Parch</th>\n",
       "      <th>Ticket</th>\n",
       "      <th>Fare</th>\n",
       "      <th>Cabin</th>\n",
       "      <th>Embarked</th>\n",
       "    </tr>\n",
       "  </thead>\n",
       "  <tbody>\n",
       "    <tr>\n",
       "      <th>0</th>\n",
       "      <td>1</td>\n",
       "      <td>0</td>\n",
       "      <td>3</td>\n",
       "      <td>Braund, Mr. Owen Harris</td>\n",
       "      <td>male</td>\n",
       "      <td>22.0</td>\n",
       "      <td>1</td>\n",
       "      <td>0</td>\n",
       "      <td>A/5 21171</td>\n",
       "      <td>7.2500</td>\n",
       "      <td>NaN</td>\n",
       "      <td>S</td>\n",
       "    </tr>\n",
       "    <tr>\n",
       "      <th>1</th>\n",
       "      <td>2</td>\n",
       "      <td>1</td>\n",
       "      <td>1</td>\n",
       "      <td>Cumings, Mrs. John Bradley (Florence Briggs Th...</td>\n",
       "      <td>female</td>\n",
       "      <td>38.0</td>\n",
       "      <td>1</td>\n",
       "      <td>0</td>\n",
       "      <td>PC 17599</td>\n",
       "      <td>71.2833</td>\n",
       "      <td>C85</td>\n",
       "      <td>C</td>\n",
       "    </tr>\n",
       "    <tr>\n",
       "      <th>2</th>\n",
       "      <td>3</td>\n",
       "      <td>1</td>\n",
       "      <td>3</td>\n",
       "      <td>Heikkinen, Miss. Laina</td>\n",
       "      <td>female</td>\n",
       "      <td>26.0</td>\n",
       "      <td>0</td>\n",
       "      <td>0</td>\n",
       "      <td>STON/O2. 3101282</td>\n",
       "      <td>7.9250</td>\n",
       "      <td>NaN</td>\n",
       "      <td>S</td>\n",
       "    </tr>\n",
       "    <tr>\n",
       "      <th>3</th>\n",
       "      <td>4</td>\n",
       "      <td>1</td>\n",
       "      <td>1</td>\n",
       "      <td>Futrelle, Mrs. Jacques Heath (Lily May Peel)</td>\n",
       "      <td>female</td>\n",
       "      <td>35.0</td>\n",
       "      <td>1</td>\n",
       "      <td>0</td>\n",
       "      <td>113803</td>\n",
       "      <td>53.1000</td>\n",
       "      <td>C123</td>\n",
       "      <td>S</td>\n",
       "    </tr>\n",
       "    <tr>\n",
       "      <th>4</th>\n",
       "      <td>5</td>\n",
       "      <td>0</td>\n",
       "      <td>3</td>\n",
       "      <td>Allen, Mr. William Henry</td>\n",
       "      <td>male</td>\n",
       "      <td>35.0</td>\n",
       "      <td>0</td>\n",
       "      <td>0</td>\n",
       "      <td>373450</td>\n",
       "      <td>8.0500</td>\n",
       "      <td>NaN</td>\n",
       "      <td>S</td>\n",
       "    </tr>\n",
       "    <tr>\n",
       "      <th>...</th>\n",
       "      <td>...</td>\n",
       "      <td>...</td>\n",
       "      <td>...</td>\n",
       "      <td>...</td>\n",
       "      <td>...</td>\n",
       "      <td>...</td>\n",
       "      <td>...</td>\n",
       "      <td>...</td>\n",
       "      <td>...</td>\n",
       "      <td>...</td>\n",
       "      <td>...</td>\n",
       "      <td>...</td>\n",
       "    </tr>\n",
       "    <tr>\n",
       "      <th>886</th>\n",
       "      <td>887</td>\n",
       "      <td>0</td>\n",
       "      <td>2</td>\n",
       "      <td>Montvila, Rev. Juozas</td>\n",
       "      <td>male</td>\n",
       "      <td>27.0</td>\n",
       "      <td>0</td>\n",
       "      <td>0</td>\n",
       "      <td>211536</td>\n",
       "      <td>13.0000</td>\n",
       "      <td>NaN</td>\n",
       "      <td>S</td>\n",
       "    </tr>\n",
       "    <tr>\n",
       "      <th>887</th>\n",
       "      <td>888</td>\n",
       "      <td>1</td>\n",
       "      <td>1</td>\n",
       "      <td>Graham, Miss. Margaret Edith</td>\n",
       "      <td>female</td>\n",
       "      <td>19.0</td>\n",
       "      <td>0</td>\n",
       "      <td>0</td>\n",
       "      <td>112053</td>\n",
       "      <td>30.0000</td>\n",
       "      <td>B42</td>\n",
       "      <td>S</td>\n",
       "    </tr>\n",
       "    <tr>\n",
       "      <th>888</th>\n",
       "      <td>889</td>\n",
       "      <td>0</td>\n",
       "      <td>3</td>\n",
       "      <td>Johnston, Miss. Catherine Helen \"Carrie\"</td>\n",
       "      <td>female</td>\n",
       "      <td>NaN</td>\n",
       "      <td>1</td>\n",
       "      <td>2</td>\n",
       "      <td>W./C. 6607</td>\n",
       "      <td>23.4500</td>\n",
       "      <td>NaN</td>\n",
       "      <td>S</td>\n",
       "    </tr>\n",
       "    <tr>\n",
       "      <th>889</th>\n",
       "      <td>890</td>\n",
       "      <td>1</td>\n",
       "      <td>1</td>\n",
       "      <td>Behr, Mr. Karl Howell</td>\n",
       "      <td>male</td>\n",
       "      <td>26.0</td>\n",
       "      <td>0</td>\n",
       "      <td>0</td>\n",
       "      <td>111369</td>\n",
       "      <td>30.0000</td>\n",
       "      <td>C148</td>\n",
       "      <td>C</td>\n",
       "    </tr>\n",
       "    <tr>\n",
       "      <th>890</th>\n",
       "      <td>891</td>\n",
       "      <td>0</td>\n",
       "      <td>3</td>\n",
       "      <td>Dooley, Mr. Patrick</td>\n",
       "      <td>male</td>\n",
       "      <td>32.0</td>\n",
       "      <td>0</td>\n",
       "      <td>0</td>\n",
       "      <td>370376</td>\n",
       "      <td>7.7500</td>\n",
       "      <td>NaN</td>\n",
       "      <td>Q</td>\n",
       "    </tr>\n",
       "  </tbody>\n",
       "</table>\n",
       "<p>891 rows × 12 columns</p>\n",
       "</div>"
      ],
      "text/plain": [
       "     PassengerId  Survived  Pclass  \\\n",
       "0              1         0       3   \n",
       "1              2         1       1   \n",
       "2              3         1       3   \n",
       "3              4         1       1   \n",
       "4              5         0       3   \n",
       "..           ...       ...     ...   \n",
       "886          887         0       2   \n",
       "887          888         1       1   \n",
       "888          889         0       3   \n",
       "889          890         1       1   \n",
       "890          891         0       3   \n",
       "\n",
       "                                                  Name     Sex   Age  SibSp  \\\n",
       "0                              Braund, Mr. Owen Harris    male  22.0      1   \n",
       "1    Cumings, Mrs. John Bradley (Florence Briggs Th...  female  38.0      1   \n",
       "2                               Heikkinen, Miss. Laina  female  26.0      0   \n",
       "3         Futrelle, Mrs. Jacques Heath (Lily May Peel)  female  35.0      1   \n",
       "4                             Allen, Mr. William Henry    male  35.0      0   \n",
       "..                                                 ...     ...   ...    ...   \n",
       "886                              Montvila, Rev. Juozas    male  27.0      0   \n",
       "887                       Graham, Miss. Margaret Edith  female  19.0      0   \n",
       "888           Johnston, Miss. Catherine Helen \"Carrie\"  female   NaN      1   \n",
       "889                              Behr, Mr. Karl Howell    male  26.0      0   \n",
       "890                                Dooley, Mr. Patrick    male  32.0      0   \n",
       "\n",
       "     Parch            Ticket     Fare Cabin Embarked  \n",
       "0        0         A/5 21171   7.2500   NaN        S  \n",
       "1        0          PC 17599  71.2833   C85        C  \n",
       "2        0  STON/O2. 3101282   7.9250   NaN        S  \n",
       "3        0            113803  53.1000  C123        S  \n",
       "4        0            373450   8.0500   NaN        S  \n",
       "..     ...               ...      ...   ...      ...  \n",
       "886      0            211536  13.0000   NaN        S  \n",
       "887      0            112053  30.0000   B42        S  \n",
       "888      2        W./C. 6607  23.4500   NaN        S  \n",
       "889      0            111369  30.0000  C148        C  \n",
       "890      0            370376   7.7500   NaN        Q  \n",
       "\n",
       "[891 rows x 12 columns]"
      ]
     },
     "execution_count": 3,
     "metadata": {},
     "output_type": "execute_result"
    }
   ],
   "source": [
    "train"
   ]
  },
  {
   "cell_type": "markdown",
   "id": "4f48d17f",
   "metadata": {},
   "source": [
    "## 3.데이터 전처리 \n",
    "- 컬럼 삭제\n",
    "- 결측치 채우기\n",
    "- 새로운 컬럼 만들기 \n",
    "- 범주형 데이터 및 연속형 데이터\n",
    "- 모든 object 타입을 숫자형으로 변경 등"
   ]
  },
  {
   "cell_type": "code",
   "execution_count": 4,
   "id": "d6f3cdb4",
   "metadata": {},
   "outputs": [],
   "source": [
    "train.drop('PassengerId', axis = 1, inplace = True)"
   ]
  },
  {
   "cell_type": "code",
   "execution_count": 5,
   "id": "2af69e98",
   "metadata": {},
   "outputs": [],
   "source": [
    "test.drop('PassengerId', axis = 1, inplace = True)\n",
    "\n",
    "#train에 시행한 내용을 test에도 똑같이 적용해줘야 함"
   ]
  },
  {
   "cell_type": "markdown",
   "id": "87b715e6",
   "metadata": {},
   "source": [
    "#### 문제와 답 나누기"
   ]
  },
  {
   "cell_type": "code",
   "execution_count": 6,
   "id": "c6efeed7",
   "metadata": {},
   "outputs": [],
   "source": [
    "X_train = train.iloc[: ,1:]   #문제\n",
    "y_train = train.iloc[: , 0]   #답"
   ]
  },
  {
   "cell_type": "code",
   "execution_count": 7,
   "id": "6856130b",
   "metadata": {},
   "outputs": [],
   "source": [
    "X_test = test  #문제 X_test = test.iloc[: , :]"
   ]
  },
  {
   "cell_type": "code",
   "execution_count": 8,
   "id": "4568c03c",
   "metadata": {},
   "outputs": [
    {
     "name": "stdout",
     "output_type": "stream",
     "text": [
      "<class 'pandas.core.frame.DataFrame'>\n",
      "RangeIndex: 891 entries, 0 to 890\n",
      "Data columns (total 10 columns):\n",
      " #   Column    Non-Null Count  Dtype  \n",
      "---  ------    --------------  -----  \n",
      " 0   Pclass    891 non-null    int64  \n",
      " 1   Name      891 non-null    object \n",
      " 2   Sex       891 non-null    object \n",
      " 3   Age       714 non-null    float64\n",
      " 4   SibSp     891 non-null    int64  \n",
      " 5   Parch     891 non-null    int64  \n",
      " 6   Ticket    891 non-null    object \n",
      " 7   Fare      891 non-null    float64\n",
      " 8   Cabin     204 non-null    object \n",
      " 9   Embarked  889 non-null    object \n",
      "dtypes: float64(2), int64(3), object(5)\n",
      "memory usage: 69.7+ KB\n"
     ]
    }
   ],
   "source": [
    "X_train.info()"
   ]
  },
  {
   "cell_type": "markdown",
   "id": "455358da",
   "metadata": {},
   "source": [
    "- Age , Cabin , Embarked 결측치 확인됨\n",
    "- 데이터를 삭제하고 학습시킬지 결측치를 채워넣을지 결정!"
   ]
  },
  {
   "cell_type": "markdown",
   "id": "f48855d1",
   "metadata": {},
   "source": [
    "### Embarked 결측치 채우기"
   ]
  },
  {
   "cell_type": "code",
   "execution_count": 9,
   "id": "4d148c7e",
   "metadata": {},
   "outputs": [
    {
     "data": {
      "text/plain": [
       "S    644\n",
       "C    168\n",
       "Q     77\n",
       "Name: Embarked, dtype: int64"
      ]
     },
     "execution_count": 9,
     "metadata": {},
     "output_type": "execute_result"
    }
   ],
   "source": [
    "# 유니크 값 확인하기 , 결측치를 가장 많은 S 로 채워보자\n",
    "X_train['Embarked'].value_counts()"
   ]
  },
  {
   "cell_type": "code",
   "execution_count": 10,
   "id": "77aaf5fd",
   "metadata": {},
   "outputs": [],
   "source": [
    "# 결측치 채우기 .fillna(채울 값, inplace = True)\n",
    "X_train['Embarked'].fillna('S', inplace = True)"
   ]
  },
  {
   "cell_type": "code",
   "execution_count": 11,
   "id": "a0509bf9",
   "metadata": {},
   "outputs": [
    {
     "name": "stdout",
     "output_type": "stream",
     "text": [
      "<class 'pandas.core.frame.DataFrame'>\n",
      "RangeIndex: 891 entries, 0 to 890\n",
      "Data columns (total 10 columns):\n",
      " #   Column    Non-Null Count  Dtype  \n",
      "---  ------    --------------  -----  \n",
      " 0   Pclass    891 non-null    int64  \n",
      " 1   Name      891 non-null    object \n",
      " 2   Sex       891 non-null    object \n",
      " 3   Age       714 non-null    float64\n",
      " 4   SibSp     891 non-null    int64  \n",
      " 5   Parch     891 non-null    int64  \n",
      " 6   Ticket    891 non-null    object \n",
      " 7   Fare      891 non-null    float64\n",
      " 8   Cabin     204 non-null    object \n",
      " 9   Embarked  891 non-null    object \n",
      "dtypes: float64(2), int64(3), object(5)\n",
      "memory usage: 69.7+ KB\n"
     ]
    }
   ],
   "source": [
    "X_train.info()"
   ]
  },
  {
   "cell_type": "markdown",
   "id": "46f218e2",
   "metadata": {},
   "source": [
    "### Fare 결측치 채우기"
   ]
  },
  {
   "cell_type": "code",
   "execution_count": 12,
   "id": "ccd445d7",
   "metadata": {},
   "outputs": [
    {
     "name": "stdout",
     "output_type": "stream",
     "text": [
      "<class 'pandas.core.frame.DataFrame'>\n",
      "RangeIndex: 418 entries, 0 to 417\n",
      "Data columns (total 10 columns):\n",
      " #   Column    Non-Null Count  Dtype  \n",
      "---  ------    --------------  -----  \n",
      " 0   Pclass    418 non-null    int64  \n",
      " 1   Name      418 non-null    object \n",
      " 2   Sex       418 non-null    object \n",
      " 3   Age       332 non-null    float64\n",
      " 4   SibSp     418 non-null    int64  \n",
      " 5   Parch     418 non-null    int64  \n",
      " 6   Ticket    418 non-null    object \n",
      " 7   Fare      417 non-null    float64\n",
      " 8   Cabin     91 non-null     object \n",
      " 9   Embarked  418 non-null    object \n",
      "dtypes: float64(2), int64(3), object(5)\n",
      "memory usage: 32.8+ KB\n"
     ]
    }
   ],
   "source": [
    "# X_train 변경시 X_test 도 변경필요\n",
    "# Age , Fare , Cabin 결측치로 확인됨\n",
    "X_test.info()"
   ]
  },
  {
   "cell_type": "code",
   "execution_count": 13,
   "id": "e56d4ce0",
   "metadata": {},
   "outputs": [
    {
     "data": {
      "text/plain": [
       "7.7500      21\n",
       "26.0000     19\n",
       "8.0500      17\n",
       "13.0000     17\n",
       "7.8958      11\n",
       "            ..\n",
       "31.6833      1\n",
       "16.0000      1\n",
       "53.1000      1\n",
       "146.5208     1\n",
       "20.2500      1\n",
       "Name: Fare, Length: 169, dtype: int64"
      ]
     },
     "execution_count": 13,
     "metadata": {},
     "output_type": "execute_result"
    }
   ],
   "source": [
    "X_test['Fare'].value_counts()  #결측치를 뭘로 채울지 불명확"
   ]
  },
  {
   "cell_type": "code",
   "execution_count": 14,
   "id": "49870057",
   "metadata": {},
   "outputs": [
    {
     "data": {
      "text/html": [
       "<div>\n",
       "<style scoped>\n",
       "    .dataframe tbody tr th:only-of-type {\n",
       "        vertical-align: middle;\n",
       "    }\n",
       "\n",
       "    .dataframe tbody tr th {\n",
       "        vertical-align: top;\n",
       "    }\n",
       "\n",
       "    .dataframe thead th {\n",
       "        text-align: right;\n",
       "    }\n",
       "</style>\n",
       "<table border=\"1\" class=\"dataframe\">\n",
       "  <thead>\n",
       "    <tr style=\"text-align: right;\">\n",
       "      <th></th>\n",
       "      <th>Pclass</th>\n",
       "      <th>Age</th>\n",
       "      <th>SibSp</th>\n",
       "      <th>Parch</th>\n",
       "      <th>Fare</th>\n",
       "    </tr>\n",
       "  </thead>\n",
       "  <tbody>\n",
       "    <tr>\n",
       "      <th>count</th>\n",
       "      <td>418.000000</td>\n",
       "      <td>332.000000</td>\n",
       "      <td>418.000000</td>\n",
       "      <td>418.000000</td>\n",
       "      <td>417.000000</td>\n",
       "    </tr>\n",
       "    <tr>\n",
       "      <th>mean</th>\n",
       "      <td>2.265550</td>\n",
       "      <td>30.272590</td>\n",
       "      <td>0.447368</td>\n",
       "      <td>0.392344</td>\n",
       "      <td>35.627188</td>\n",
       "    </tr>\n",
       "    <tr>\n",
       "      <th>std</th>\n",
       "      <td>0.841838</td>\n",
       "      <td>14.181209</td>\n",
       "      <td>0.896760</td>\n",
       "      <td>0.981429</td>\n",
       "      <td>55.907576</td>\n",
       "    </tr>\n",
       "    <tr>\n",
       "      <th>min</th>\n",
       "      <td>1.000000</td>\n",
       "      <td>0.170000</td>\n",
       "      <td>0.000000</td>\n",
       "      <td>0.000000</td>\n",
       "      <td>0.000000</td>\n",
       "    </tr>\n",
       "    <tr>\n",
       "      <th>25%</th>\n",
       "      <td>1.000000</td>\n",
       "      <td>21.000000</td>\n",
       "      <td>0.000000</td>\n",
       "      <td>0.000000</td>\n",
       "      <td>7.895800</td>\n",
       "    </tr>\n",
       "    <tr>\n",
       "      <th>50%</th>\n",
       "      <td>3.000000</td>\n",
       "      <td>27.000000</td>\n",
       "      <td>0.000000</td>\n",
       "      <td>0.000000</td>\n",
       "      <td>14.454200</td>\n",
       "    </tr>\n",
       "    <tr>\n",
       "      <th>75%</th>\n",
       "      <td>3.000000</td>\n",
       "      <td>39.000000</td>\n",
       "      <td>1.000000</td>\n",
       "      <td>0.000000</td>\n",
       "      <td>31.500000</td>\n",
       "    </tr>\n",
       "    <tr>\n",
       "      <th>max</th>\n",
       "      <td>3.000000</td>\n",
       "      <td>76.000000</td>\n",
       "      <td>8.000000</td>\n",
       "      <td>9.000000</td>\n",
       "      <td>512.329200</td>\n",
       "    </tr>\n",
       "  </tbody>\n",
       "</table>\n",
       "</div>"
      ],
      "text/plain": [
       "           Pclass         Age       SibSp       Parch        Fare\n",
       "count  418.000000  332.000000  418.000000  418.000000  417.000000\n",
       "mean     2.265550   30.272590    0.447368    0.392344   35.627188\n",
       "std      0.841838   14.181209    0.896760    0.981429   55.907576\n",
       "min      1.000000    0.170000    0.000000    0.000000    0.000000\n",
       "25%      1.000000   21.000000    0.000000    0.000000    7.895800\n",
       "50%      3.000000   27.000000    0.000000    0.000000   14.454200\n",
       "75%      3.000000   39.000000    1.000000    0.000000   31.500000\n",
       "max      3.000000   76.000000    8.000000    9.000000  512.329200"
      ]
     },
     "execution_count": 14,
     "metadata": {},
     "output_type": "execute_result"
    }
   ],
   "source": [
    "X_test.describe()\n",
    "#평균 값 35.627188 을 사용시 이상치에 민감\n",
    "# 50% -> 14.454200 으로 사용해보자"
   ]
  },
  {
   "cell_type": "code",
   "execution_count": 15,
   "id": "1d4f5a42",
   "metadata": {},
   "outputs": [],
   "source": [
    "X_test['Fare'].fillna(14.454200 , inplace=True)"
   ]
  },
  {
   "cell_type": "markdown",
   "id": "caab7409",
   "metadata": {},
   "source": [
    "##  age 결측치 채우기"
   ]
  },
  {
   "cell_type": "code",
   "execution_count": 16,
   "id": "d3fb695c",
   "metadata": {},
   "outputs": [
    {
     "data": {
      "text/html": [
       "<div>\n",
       "<style scoped>\n",
       "    .dataframe tbody tr th:only-of-type {\n",
       "        vertical-align: middle;\n",
       "    }\n",
       "\n",
       "    .dataframe tbody tr th {\n",
       "        vertical-align: top;\n",
       "    }\n",
       "\n",
       "    .dataframe thead th {\n",
       "        text-align: right;\n",
       "    }\n",
       "</style>\n",
       "<table border=\"1\" class=\"dataframe\">\n",
       "  <thead>\n",
       "    <tr style=\"text-align: right;\">\n",
       "      <th></th>\n",
       "      <th>Pclass</th>\n",
       "      <th>Age</th>\n",
       "      <th>SibSp</th>\n",
       "      <th>Parch</th>\n",
       "      <th>Fare</th>\n",
       "    </tr>\n",
       "  </thead>\n",
       "  <tbody>\n",
       "    <tr>\n",
       "      <th>Pclass</th>\n",
       "      <td>1.000000</td>\n",
       "      <td>-0.369226</td>\n",
       "      <td>0.083081</td>\n",
       "      <td>0.018443</td>\n",
       "      <td>-0.549500</td>\n",
       "    </tr>\n",
       "    <tr>\n",
       "      <th>Age</th>\n",
       "      <td>-0.369226</td>\n",
       "      <td>1.000000</td>\n",
       "      <td>-0.308247</td>\n",
       "      <td>-0.189119</td>\n",
       "      <td>0.096067</td>\n",
       "    </tr>\n",
       "    <tr>\n",
       "      <th>SibSp</th>\n",
       "      <td>0.083081</td>\n",
       "      <td>-0.308247</td>\n",
       "      <td>1.000000</td>\n",
       "      <td>0.414838</td>\n",
       "      <td>0.159651</td>\n",
       "    </tr>\n",
       "    <tr>\n",
       "      <th>Parch</th>\n",
       "      <td>0.018443</td>\n",
       "      <td>-0.189119</td>\n",
       "      <td>0.414838</td>\n",
       "      <td>1.000000</td>\n",
       "      <td>0.216225</td>\n",
       "    </tr>\n",
       "    <tr>\n",
       "      <th>Fare</th>\n",
       "      <td>-0.549500</td>\n",
       "      <td>0.096067</td>\n",
       "      <td>0.159651</td>\n",
       "      <td>0.216225</td>\n",
       "      <td>1.000000</td>\n",
       "    </tr>\n",
       "  </tbody>\n",
       "</table>\n",
       "</div>"
      ],
      "text/plain": [
       "          Pclass       Age     SibSp     Parch      Fare\n",
       "Pclass  1.000000 -0.369226  0.083081  0.018443 -0.549500\n",
       "Age    -0.369226  1.000000 -0.308247 -0.189119  0.096067\n",
       "SibSp   0.083081 -0.308247  1.000000  0.414838  0.159651\n",
       "Parch   0.018443 -0.189119  0.414838  1.000000  0.216225\n",
       "Fare   -0.549500  0.096067  0.159651  0.216225  1.000000"
      ]
     },
     "execution_count": 16,
     "metadata": {},
     "output_type": "execute_result"
    }
   ],
   "source": [
    "#  3   Age       714 non-null    float64  \n",
    "# age컬럼간의 상관관계를 통해서 채우기\n",
    "X_train.corr()"
   ]
  },
  {
   "cell_type": "code",
   "execution_count": 17,
   "id": "32dfeff1",
   "metadata": {},
   "outputs": [
    {
     "data": {
      "text/html": [
       "<div>\n",
       "<style scoped>\n",
       "    .dataframe tbody tr th:only-of-type {\n",
       "        vertical-align: middle;\n",
       "    }\n",
       "\n",
       "    .dataframe tbody tr th {\n",
       "        vertical-align: top;\n",
       "    }\n",
       "\n",
       "    .dataframe thead th {\n",
       "        text-align: right;\n",
       "    }\n",
       "</style>\n",
       "<table border=\"1\" class=\"dataframe\">\n",
       "  <thead>\n",
       "    <tr style=\"text-align: right;\">\n",
       "      <th></th>\n",
       "      <th>Pclass</th>\n",
       "      <th>Age</th>\n",
       "    </tr>\n",
       "  </thead>\n",
       "  <tbody>\n",
       "    <tr>\n",
       "      <th>0</th>\n",
       "      <td>3</td>\n",
       "      <td>22.0</td>\n",
       "    </tr>\n",
       "    <tr>\n",
       "      <th>1</th>\n",
       "      <td>1</td>\n",
       "      <td>38.0</td>\n",
       "    </tr>\n",
       "    <tr>\n",
       "      <th>2</th>\n",
       "      <td>3</td>\n",
       "      <td>26.0</td>\n",
       "    </tr>\n",
       "    <tr>\n",
       "      <th>3</th>\n",
       "      <td>1</td>\n",
       "      <td>35.0</td>\n",
       "    </tr>\n",
       "    <tr>\n",
       "      <th>4</th>\n",
       "      <td>3</td>\n",
       "      <td>35.0</td>\n",
       "    </tr>\n",
       "    <tr>\n",
       "      <th>...</th>\n",
       "      <td>...</td>\n",
       "      <td>...</td>\n",
       "    </tr>\n",
       "    <tr>\n",
       "      <th>886</th>\n",
       "      <td>2</td>\n",
       "      <td>27.0</td>\n",
       "    </tr>\n",
       "    <tr>\n",
       "      <th>887</th>\n",
       "      <td>1</td>\n",
       "      <td>19.0</td>\n",
       "    </tr>\n",
       "    <tr>\n",
       "      <th>888</th>\n",
       "      <td>3</td>\n",
       "      <td>NaN</td>\n",
       "    </tr>\n",
       "    <tr>\n",
       "      <th>889</th>\n",
       "      <td>1</td>\n",
       "      <td>26.0</td>\n",
       "    </tr>\n",
       "    <tr>\n",
       "      <th>890</th>\n",
       "      <td>3</td>\n",
       "      <td>32.0</td>\n",
       "    </tr>\n",
       "  </tbody>\n",
       "</table>\n",
       "<p>891 rows × 2 columns</p>\n",
       "</div>"
      ],
      "text/plain": [
       "     Pclass   Age\n",
       "0         3  22.0\n",
       "1         1  38.0\n",
       "2         3  26.0\n",
       "3         1  35.0\n",
       "4         3  35.0\n",
       "..      ...   ...\n",
       "886       2  27.0\n",
       "887       1  19.0\n",
       "888       3   NaN\n",
       "889       1  26.0\n",
       "890       3  32.0\n",
       "\n",
       "[891 rows x 2 columns]"
      ]
     },
     "execution_count": 17,
     "metadata": {},
     "output_type": "execute_result"
    }
   ],
   "source": [
    "# 상관관계가 가장 높은 Pclass\n",
    "X_train[['Pclass','Age']]"
   ]
  },
  {
   "cell_type": "code",
   "execution_count": 18,
   "id": "d2aee455",
   "metadata": {},
   "outputs": [
    {
     "data": {
      "text/html": [
       "<div>\n",
       "<style scoped>\n",
       "    .dataframe tbody tr th:only-of-type {\n",
       "        vertical-align: middle;\n",
       "    }\n",
       "\n",
       "    .dataframe tbody tr th {\n",
       "        vertical-align: top;\n",
       "    }\n",
       "\n",
       "    .dataframe thead th {\n",
       "        text-align: right;\n",
       "    }\n",
       "</style>\n",
       "<table border=\"1\" class=\"dataframe\">\n",
       "  <thead>\n",
       "    <tr style=\"text-align: right;\">\n",
       "      <th></th>\n",
       "      <th>Age</th>\n",
       "    </tr>\n",
       "    <tr>\n",
       "      <th>Pclass</th>\n",
       "      <th></th>\n",
       "    </tr>\n",
       "  </thead>\n",
       "  <tbody>\n",
       "    <tr>\n",
       "      <th>1</th>\n",
       "      <td>37.0</td>\n",
       "    </tr>\n",
       "    <tr>\n",
       "      <th>2</th>\n",
       "      <td>29.0</td>\n",
       "    </tr>\n",
       "    <tr>\n",
       "      <th>3</th>\n",
       "      <td>24.0</td>\n",
       "    </tr>\n",
       "  </tbody>\n",
       "</table>\n",
       "</div>"
      ],
      "text/plain": [
       "         Age\n",
       "Pclass      \n",
       "1       37.0\n",
       "2       29.0\n",
       "3       24.0"
      ]
     },
     "execution_count": 18,
     "metadata": {},
     "output_type": "execute_result"
    }
   ],
   "source": [
    "#Pclass 유니크 값은 1 , 2, 3 등석 / 인덱스값으로 확인됨\n",
    "# .median() 중위수(중앙값)\n",
    "X_train[['Pclass','Age']].groupby(by='Pclass').median()"
   ]
  },
  {
   "cell_type": "code",
   "execution_count": 19,
   "id": "93ac7ce7",
   "metadata": {},
   "outputs": [
    {
     "data": {
      "text/html": [
       "<div>\n",
       "<style scoped>\n",
       "    .dataframe tbody tr th:only-of-type {\n",
       "        vertical-align: middle;\n",
       "    }\n",
       "\n",
       "    .dataframe tbody tr th {\n",
       "        vertical-align: top;\n",
       "    }\n",
       "\n",
       "    .dataframe thead th {\n",
       "        text-align: right;\n",
       "    }\n",
       "</style>\n",
       "<table border=\"1\" class=\"dataframe\">\n",
       "  <thead>\n",
       "    <tr style=\"text-align: right;\">\n",
       "      <th></th>\n",
       "      <th></th>\n",
       "      <th>Age</th>\n",
       "    </tr>\n",
       "    <tr>\n",
       "      <th>Pclass</th>\n",
       "      <th>Sex</th>\n",
       "      <th></th>\n",
       "    </tr>\n",
       "  </thead>\n",
       "  <tbody>\n",
       "    <tr>\n",
       "      <th rowspan=\"2\" valign=\"top\">1</th>\n",
       "      <th>female</th>\n",
       "      <td>35.0</td>\n",
       "    </tr>\n",
       "    <tr>\n",
       "      <th>male</th>\n",
       "      <td>40.0</td>\n",
       "    </tr>\n",
       "    <tr>\n",
       "      <th rowspan=\"2\" valign=\"top\">2</th>\n",
       "      <th>female</th>\n",
       "      <td>28.0</td>\n",
       "    </tr>\n",
       "    <tr>\n",
       "      <th>male</th>\n",
       "      <td>30.0</td>\n",
       "    </tr>\n",
       "    <tr>\n",
       "      <th rowspan=\"2\" valign=\"top\">3</th>\n",
       "      <th>female</th>\n",
       "      <td>21.5</td>\n",
       "    </tr>\n",
       "    <tr>\n",
       "      <th>male</th>\n",
       "      <td>25.0</td>\n",
       "    </tr>\n",
       "  </tbody>\n",
       "</table>\n",
       "</div>"
      ],
      "text/plain": [
       "                Age\n",
       "Pclass Sex         \n",
       "1      female  35.0\n",
       "       male    40.0\n",
       "2      female  28.0\n",
       "       male    30.0\n",
       "3      female  21.5\n",
       "       male    25.0"
      ]
     },
     "execution_count": 19,
     "metadata": {},
     "output_type": "execute_result"
    }
   ],
   "source": [
    "# 생존과 사망에 영향을 끼친 성별로 한번 더 세분화\n",
    "#.groupby(by=['Pclass','Sex']) 첫번째 기준 Pclass 두번째 기준 Sex\n",
    "# 데이터 프레임 형태\n",
    "age_table = X_train[['Pclass','Sex','Age',]].groupby(by=['Pclass','Sex']).median()\n",
    "age_table"
   ]
  },
  {
   "cell_type": "code",
   "execution_count": 20,
   "id": "2be28fb3",
   "metadata": {},
   "outputs": [],
   "source": [
    "#시리즈 형태로 값을 파악해서 바로 시리즈 형태로 return 값을 준다?\n",
    "#return age_table.loc[person['Pclass'], person['Sex']][0]\n",
    "#       age_table.loc[1,               'male']      [0]"
   ]
  },
  {
   "cell_type": "code",
   "execution_count": 21,
   "id": "a6c7a702",
   "metadata": {},
   "outputs": [],
   "source": [
    "#결측치 채우는 함수생성\n",
    "def fill_age(person):\n",
    "    if np.isnan(person['Age']):\n",
    "        #결측치에 대한 명령문이 실행 , 결측치 조건에 해당하는 값으로 return\n",
    "        # return 결측치 채워줄 값 \n",
    "        #.loc[결측치에 해당하는 성별]\n",
    "        #                    결측치의 Pclass  , 결측치의 성별\n",
    "        return age_table.loc[person['Pclass'], person['Sex']][0]\n",
    "    else:\n",
    "        #결측치가 아닌 데이터에 대한 명령문이 실행\n",
    "        return person['Age']"
   ]
  },
  {
   "cell_type": "code",
   "execution_count": 22,
   "id": "ca1d12c3",
   "metadata": {},
   "outputs": [],
   "source": [
    "#결측치 채우는 함수 적용\n",
    "# apply 함수 사용 , 주로 데이터 프레임에서 활용\n",
    "X_train['Age'] = X_train.apply(fill_age, axis = 1)"
   ]
  },
  {
   "cell_type": "code",
   "execution_count": 23,
   "id": "a19684c5",
   "metadata": {
    "scrolled": true
   },
   "outputs": [
    {
     "name": "stdout",
     "output_type": "stream",
     "text": [
      "<class 'pandas.core.frame.DataFrame'>\n",
      "RangeIndex: 891 entries, 0 to 890\n",
      "Data columns (total 10 columns):\n",
      " #   Column    Non-Null Count  Dtype  \n",
      "---  ------    --------------  -----  \n",
      " 0   Pclass    891 non-null    int64  \n",
      " 1   Name      891 non-null    object \n",
      " 2   Sex       891 non-null    object \n",
      " 3   Age       891 non-null    float64\n",
      " 4   SibSp     891 non-null    int64  \n",
      " 5   Parch     891 non-null    int64  \n",
      " 6   Ticket    891 non-null    object \n",
      " 7   Fare      891 non-null    float64\n",
      " 8   Cabin     204 non-null    object \n",
      " 9   Embarked  891 non-null    object \n",
      "dtypes: float64(2), int64(3), object(5)\n",
      "memory usage: 69.7+ KB\n"
     ]
    }
   ],
   "source": [
    "# 기존 info 값 => 3   Age       714 non-null    float64\n",
    "X_train.info()"
   ]
  },
  {
   "cell_type": "code",
   "execution_count": 24,
   "id": "af1990de",
   "metadata": {},
   "outputs": [],
   "source": [
    "# X_test에 대해서도 동일하게 적용해줌\n",
    "X_test['Age'] = X_test.apply(fill_age, axis = 1)"
   ]
  },
  {
   "cell_type": "code",
   "execution_count": 25,
   "id": "91965c32",
   "metadata": {
    "scrolled": true
   },
   "outputs": [
    {
     "name": "stdout",
     "output_type": "stream",
     "text": [
      "<class 'pandas.core.frame.DataFrame'>\n",
      "RangeIndex: 418 entries, 0 to 417\n",
      "Data columns (total 10 columns):\n",
      " #   Column    Non-Null Count  Dtype  \n",
      "---  ------    --------------  -----  \n",
      " 0   Pclass    418 non-null    int64  \n",
      " 1   Name      418 non-null    object \n",
      " 2   Sex       418 non-null    object \n",
      " 3   Age       418 non-null    float64\n",
      " 4   SibSp     418 non-null    int64  \n",
      " 5   Parch     418 non-null    int64  \n",
      " 6   Ticket    418 non-null    object \n",
      " 7   Fare      418 non-null    float64\n",
      " 8   Cabin     91 non-null     object \n",
      " 9   Embarked  418 non-null    object \n",
      "dtypes: float64(2), int64(3), object(5)\n",
      "memory usage: 32.8+ KB\n"
     ]
    }
   ],
   "source": [
    "# 기존 값 => 3   Age       332 non-null    float64\n",
    "X_test.info()"
   ]
  },
  {
   "cell_type": "markdown",
   "id": "4130054f",
   "metadata": {},
   "source": [
    "### Cabin 채우기\n",
    "- Cabin의 범주값이 너무 많기 때문에 종류를 줄여보자.\n",
    "- 결측치도 하나의 데이터가 될 수 있다."
   ]
  },
  {
   "cell_type": "code",
   "execution_count": 26,
   "id": "bcc6c6fb",
   "metadata": {},
   "outputs": [
    {
     "data": {
      "text/plain": [
       "B96 B98        4\n",
       "G6             4\n",
       "C23 C25 C27    4\n",
       "D              3\n",
       "E101           3\n",
       "              ..\n",
       "C45            1\n",
       "C148           1\n",
       "A23            1\n",
       "E17            1\n",
       "C104           1\n",
       "Name: Cabin, Length: 147, dtype: int64"
      ]
     },
     "execution_count": 26,
     "metadata": {},
     "output_type": "execute_result"
    }
   ],
   "source": [
    "X_train['Cabin'].value_counts()\n",
    "#결측치 관련해서 불명확 "
   ]
  },
  {
   "cell_type": "code",
   "execution_count": 27,
   "id": "4c8623ef",
   "metadata": {},
   "outputs": [
    {
     "data": {
      "text/plain": [
       "array([nan, 'C85', 'C123', 'E46', 'G6', 'C103', 'D56', 'A6',\n",
       "       'C23 C25 C27', 'B78', 'D33', 'B30', 'C52', 'B28', 'C83', 'F33',\n",
       "       'F G73', 'E31', 'A5', 'D10 D12', 'D26', 'C110', 'B58 B60', 'E101',\n",
       "       'F E69', 'D47', 'B86', 'F2', 'C2', 'E33', 'B19', 'A7', 'C49', 'F4',\n",
       "       'A32', 'B4', 'B80', 'A31', 'D36', 'D15', 'C93', 'C78', 'D35',\n",
       "       'C87', 'B77', 'E67', 'B94', 'C125', 'C99', 'C118', 'D7', 'A19',\n",
       "       'B49', 'D', 'C22 C26', 'C106', 'C65', 'E36', 'C54',\n",
       "       'B57 B59 B63 B66', 'C7', 'E34', 'C32', 'B18', 'C124', 'C91', 'E40',\n",
       "       'T', 'C128', 'D37', 'B35', 'E50', 'C82', 'B96 B98', 'E10', 'E44',\n",
       "       'A34', 'C104', 'C111', 'C92', 'E38', 'D21', 'E12', 'E63', 'A14',\n",
       "       'B37', 'C30', 'D20', 'B79', 'E25', 'D46', 'B73', 'C95', 'B38',\n",
       "       'B39', 'B22', 'C86', 'C70', 'A16', 'C101', 'C68', 'A10', 'E68',\n",
       "       'B41', 'A20', 'D19', 'D50', 'D9', 'A23', 'B50', 'A26', 'D48',\n",
       "       'E58', 'C126', 'B71', 'B51 B53 B55', 'D49', 'B5', 'B20', 'F G63',\n",
       "       'C62 C64', 'E24', 'C90', 'C45', 'E8', 'B101', 'D45', 'C46', 'D30',\n",
       "       'E121', 'D11', 'E77', 'F38', 'B3', 'D6', 'B82 B84', 'D17', 'A36',\n",
       "       'B102', 'B69', 'E49', 'C47', 'D28', 'E17', 'A24', 'C50', 'B42',\n",
       "       'C148'], dtype=object)"
      ]
     },
     "execution_count": 27,
     "metadata": {},
     "output_type": "execute_result"
    }
   ],
   "source": [
    "X_train['Cabin'].unique()\n",
    "#데이터가 많아서 변경필요\n",
    "#같은 구역별로 숫자는 빼고 C구역, B구역 이런식으로 알파벳만 빼내보자"
   ]
  },
  {
   "cell_type": "code",
   "execution_count": 28,
   "id": "d069cbd3",
   "metadata": {},
   "outputs": [],
   "source": [
    "X_train['Cabin'] = X_train['Cabin'].str[0]"
   ]
  },
  {
   "cell_type": "code",
   "execution_count": 29,
   "id": "401a3275",
   "metadata": {},
   "outputs": [
    {
     "data": {
      "text/plain": [
       "array([nan, 'C', 'E', 'G', 'D', 'A', 'B', 'F', 'T'], dtype=object)"
      ]
     },
     "execution_count": 29,
     "metadata": {},
     "output_type": "execute_result"
    }
   ],
   "source": [
    "X_train['Cabin'].unique()"
   ]
  },
  {
   "cell_type": "code",
   "execution_count": 30,
   "id": "9e3e7522",
   "metadata": {},
   "outputs": [
    {
     "data": {
      "text/plain": [
       "C    59\n",
       "B    47\n",
       "D    33\n",
       "E    32\n",
       "A    15\n",
       "F    13\n",
       "G     4\n",
       "T     1\n",
       "Name: Cabin, dtype: int64"
      ]
     },
     "execution_count": 30,
     "metadata": {},
     "output_type": "execute_result"
    }
   ],
   "source": [
    "# 구역별로 좀더 명확한 자료 확인되지만 결과값이 비슷함\n",
    "# 결측치를 하나의 데이터로 만들어 버리쟈!! \n",
    "X_train['Cabin'].value_counts()"
   ]
  },
  {
   "cell_type": "code",
   "execution_count": 31,
   "id": "2edf2105",
   "metadata": {},
   "outputs": [],
   "source": [
    "# M이라는 값으로 결측치를 채워 하나의 데이터로 만들어 보자\n",
    "X_train['Cabin'].fillna('M', inplace = True)"
   ]
  },
  {
   "cell_type": "code",
   "execution_count": 32,
   "id": "68604f54",
   "metadata": {},
   "outputs": [
    {
     "data": {
      "text/plain": [
       "M    687\n",
       "C     59\n",
       "B     47\n",
       "D     33\n",
       "E     32\n",
       "A     15\n",
       "F     13\n",
       "G      4\n",
       "T      1\n",
       "Name: Cabin, dtype: int64"
      ]
     },
     "execution_count": 32,
     "metadata": {},
     "output_type": "execute_result"
    }
   ],
   "source": [
    "X_train['Cabin'].value_counts()"
   ]
  },
  {
   "cell_type": "code",
   "execution_count": 33,
   "id": "34211456",
   "metadata": {},
   "outputs": [],
   "source": [
    "#X_test 의 결측치에 대해서도 채워보자!!"
   ]
  },
  {
   "cell_type": "code",
   "execution_count": 34,
   "id": "1acaf1de",
   "metadata": {},
   "outputs": [],
   "source": [
    "X_test['Cabin'].str[0]\n",
    "X_test['Cabin'] = X_test['Cabin'].str[0]\n",
    "X_test['Cabin'].fillna('M', inplace = True)"
   ]
  },
  {
   "cell_type": "code",
   "execution_count": 35,
   "id": "ab317036",
   "metadata": {},
   "outputs": [
    {
     "data": {
      "text/plain": [
       "M    327\n",
       "C     35\n",
       "B     18\n",
       "D     13\n",
       "E      9\n",
       "F      8\n",
       "A      7\n",
       "G      1\n",
       "Name: Cabin, dtype: int64"
      ]
     },
     "execution_count": 35,
     "metadata": {},
     "output_type": "execute_result"
    }
   ],
   "source": [
    "X_test['Cabin'].value_counts()"
   ]
  },
  {
   "cell_type": "markdown",
   "id": "13eba819",
   "metadata": {},
   "source": [
    "## 탐색적 데이터 분석 (EDA)\n",
    "- 훈련데이터로 탐색\n",
    "- Bar chart 활용하여 탐색"
   ]
  },
  {
   "cell_type": "markdown",
   "id": "edb03230",
   "metadata": {},
   "source": [
    "#### Cabin 시각화"
   ]
  },
  {
   "cell_type": "code",
   "execution_count": 36,
   "id": "14ab5b1b",
   "metadata": {},
   "outputs": [],
   "source": [
    "#기존 제거한 생존여부 컬럼을 다시 만들어서 새로운 변수에 넣어주자\n",
    "#.concat([A, B]) 데이터 프레임을 합칠때 사용, 복수개의 변수를 사용하기 때문에 \n",
    "# 대괄호 사용해줘야함 axis = 1 -> 열로 함쳐지게 하기 위해 사용\n",
    "tr = pd.concat([X_train,train[['Survived']]], axis = 1)"
   ]
  },
  {
   "cell_type": "code",
   "execution_count": 37,
   "id": "ebf99066",
   "metadata": {
    "scrolled": true
   },
   "outputs": [
    {
     "data": {
      "text/plain": [
       "<AxesSubplot:xlabel='Cabin', ylabel='count'>"
      ]
     },
     "execution_count": 37,
     "metadata": {},
     "output_type": "execute_result"
    },
    {
     "data": {
      "image/png": "[encoded data removed]",
      "text/plain": [
       "<Figure size 432x288 with 1 Axes>"
      ]
     },
     "metadata": {
      "needs_background": "light"
     },
     "output_type": "display_data"
    }
   ],
   "source": [
    "sns.countplot(data = tr,\n",
    "            x = 'Cabin',\n",
    "            hue = 'Survived')"
   ]
  },
  {
   "cell_type": "code",
   "execution_count": 38,
   "id": "bc6fc31e",
   "metadata": {},
   "outputs": [
    {
     "data": {
      "text/html": [
       "<div>\n",
       "<style scoped>\n",
       "    .dataframe tbody tr th:only-of-type {\n",
       "        vertical-align: middle;\n",
       "    }\n",
       "\n",
       "    .dataframe tbody tr th {\n",
       "        vertical-align: top;\n",
       "    }\n",
       "\n",
       "    .dataframe thead th {\n",
       "        text-align: right;\n",
       "    }\n",
       "</style>\n",
       "<table border=\"1\" class=\"dataframe\">\n",
       "  <thead>\n",
       "    <tr style=\"text-align: right;\">\n",
       "      <th></th>\n",
       "      <th>Survived</th>\n",
       "    </tr>\n",
       "  </thead>\n",
       "  <tbody>\n",
       "    <tr>\n",
       "      <th>0</th>\n",
       "      <td>0</td>\n",
       "    </tr>\n",
       "    <tr>\n",
       "      <th>1</th>\n",
       "      <td>1</td>\n",
       "    </tr>\n",
       "    <tr>\n",
       "      <th>2</th>\n",
       "      <td>1</td>\n",
       "    </tr>\n",
       "    <tr>\n",
       "      <th>3</th>\n",
       "      <td>1</td>\n",
       "    </tr>\n",
       "    <tr>\n",
       "      <th>4</th>\n",
       "      <td>0</td>\n",
       "    </tr>\n",
       "    <tr>\n",
       "      <th>...</th>\n",
       "      <td>...</td>\n",
       "    </tr>\n",
       "    <tr>\n",
       "      <th>886</th>\n",
       "      <td>0</td>\n",
       "    </tr>\n",
       "    <tr>\n",
       "      <th>887</th>\n",
       "      <td>1</td>\n",
       "    </tr>\n",
       "    <tr>\n",
       "      <th>888</th>\n",
       "      <td>0</td>\n",
       "    </tr>\n",
       "    <tr>\n",
       "      <th>889</th>\n",
       "      <td>1</td>\n",
       "    </tr>\n",
       "    <tr>\n",
       "      <th>890</th>\n",
       "      <td>0</td>\n",
       "    </tr>\n",
       "  </tbody>\n",
       "</table>\n",
       "<p>891 rows × 1 columns</p>\n",
       "</div>"
      ],
      "text/plain": [
       "     Survived\n",
       "0           0\n",
       "1           1\n",
       "2           1\n",
       "3           1\n",
       "4           0\n",
       "..        ...\n",
       "886         0\n",
       "887         1\n",
       "888         0\n",
       "889         1\n",
       "890         0\n",
       "\n",
       "[891 rows x 1 columns]"
      ]
     },
     "execution_count": 38,
     "metadata": {},
     "output_type": "execute_result"
    }
   ],
   "source": [
    "train[['Survived']]"
   ]
  },
  {
   "cell_type": "markdown",
   "id": "9857aae8",
   "metadata": {},
   "source": [
    "- 시각화 내용으로 확인할 수 있는 것!! (0-죽음 , 1-생존)\n",
    "- M에서 상대적으로 더 많은 사람이 죽었다.\n",
    "- 모델에게 학습시켜도 의마가 있을 수 있겟다."
   ]
  },
  {
   "cell_type": "markdown",
   "id": "6870782c",
   "metadata": {},
   "source": [
    "#### Pclass 시각화"
   ]
  },
  {
   "cell_type": "code",
   "execution_count": 39,
   "id": "bc1f90a8",
   "metadata": {
    "scrolled": true
   },
   "outputs": [
    {
     "data": {
      "text/plain": [
       "<AxesSubplot:xlabel='count', ylabel='Pclass'>"
      ]
     },
     "execution_count": 39,
     "metadata": {},
     "output_type": "execute_result"
    },
    {
     "data": {
      "image/png": "[encoded data removed]",
      "text/plain": [
       "<Figure size 432x288 with 1 Axes>"
      ]
     },
     "metadata": {
      "needs_background": "light"
     },
     "output_type": "display_data"
    }
   ],
   "source": [
    "sns.countplot(data = tr,\n",
    "             y = 'Pclass',\n",
    "             hue = 'Survived')\n",
    "\n",
    "#1등급 사람은 상대적으로 더 많이 살아남았다.\n",
    "#3등급 사람은 많으 사람이 사망했다."
   ]
  },
  {
   "cell_type": "markdown",
   "id": "381ce741",
   "metadata": {},
   "source": [
    "## Pclass 와 Cabin 시각화"
   ]
  },
  {
   "cell_type": "code",
   "execution_count": 40,
   "id": "493c8a52",
   "metadata": {},
   "outputs": [
    {
     "data": {
      "text/plain": [
       "<AxesSubplot:xlabel='Cabin', ylabel='count'>"
      ]
     },
     "execution_count": 40,
     "metadata": {},
     "output_type": "execute_result"
    },
    {
     "data": {
      "image/png": "[encoded data removed]",
      "text/plain": [
       "<Figure size 432x288 with 1 Axes>"
      ]
     },
     "metadata": {
      "needs_background": "light"
     },
     "output_type": "display_data"
    }
   ],
   "source": [
    "sns.countplot(data = tr,\n",
    "             x = 'Cabin',\n",
    "             hue = 'Pclass')\n",
    "\n",
    "#A, B, C 는 1등석 사람들이 탔다.\n",
    "#M은 3등급 사람들이 많이 탑승했다. --> 3등석 사람들이 많이 죽어서 정보가 손실?"
   ]
  },
  {
   "cell_type": "markdown",
   "id": "d8b9ed70",
   "metadata": {},
   "source": [
    "## Embarked , Sex 시각화"
   ]
  },
  {
   "cell_type": "code",
   "execution_count": 41,
   "id": "33d2f27c",
   "metadata": {},
   "outputs": [
    {
     "data": {
      "text/plain": [
       "<AxesSubplot:xlabel='Embarked', ylabel='count'>"
      ]
     },
     "execution_count": 41,
     "metadata": {},
     "output_type": "execute_result"
    },
    {
     "data": {
      "image/png": "[encoded data removed]",
      "text/plain": [
       "<Figure size 432x288 with 1 Axes>"
      ]
     },
     "metadata": {
      "needs_background": "light"
     },
     "output_type": "display_data"
    }
   ],
   "source": [
    "sns.countplot(data = tr,\n",
    "             x = 'Embarked',\n",
    "             hue = 'Survived')"
   ]
  },
  {
   "cell_type": "code",
   "execution_count": 42,
   "id": "db43372c",
   "metadata": {},
   "outputs": [
    {
     "data": {
      "text/plain": [
       "<AxesSubplot:xlabel='Embarked', ylabel='count'>"
      ]
     },
     "execution_count": 42,
     "metadata": {},
     "output_type": "execute_result"
    },
    {
     "data": {
      "image/png": "[encoded data removed]",
      "text/plain": [
       "<Figure size 432x288 with 1 Axes>"
      ]
     },
     "metadata": {
      "needs_background": "light"
     },
     "output_type": "display_data"
    }
   ],
   "source": [
    "sns.countplot(data = tr,\n",
    "             x = 'Embarked',\n",
    "             hue = 'Pclass')"
   ]
  },
  {
   "cell_type": "code",
   "execution_count": 43,
   "id": "806718dd",
   "metadata": {},
   "outputs": [
    {
     "data": {
      "text/plain": [
       "<AxesSubplot:xlabel='Sex', ylabel='count'>"
      ]
     },
     "execution_count": 43,
     "metadata": {},
     "output_type": "execute_result"
    },
    {
     "data": {
      "image/png": "[encoded data removed]",
      "text/plain": [
       "<Figure size 432x288 with 1 Axes>"
      ]
     },
     "metadata": {
      "needs_background": "light"
     },
     "output_type": "display_data"
    }
   ],
   "source": [
    "sns.countplot(data = tr,\n",
    "             x = 'Sex',\n",
    "             hue = 'Survived')"
   ]
  },
  {
   "cell_type": "markdown",
   "id": "6fe92ca1",
   "metadata": {},
   "source": [
    "## Age 시각화"
   ]
  },
  {
   "cell_type": "code",
   "execution_count": 44,
   "id": "edffa11b",
   "metadata": {},
   "outputs": [
    {
     "data": {
      "text/plain": [
       "<AxesSubplot:xlabel='Sex', ylabel='Age'>"
      ]
     },
     "execution_count": 44,
     "metadata": {},
     "output_type": "execute_result"
    },
    {
     "data": {
      "image/png": "[encoded data removed]",
      "text/plain": [
       "<Figure size 1080x360 with 1 Axes>"
      ]
     },
     "metadata": {
      "needs_background": "light"
     },
     "output_type": "display_data"
    }
   ],
   "source": [
    "plt.figure(figsize=(15, 5))\n",
    "sns.violinplot(data = tr,\n",
    "              y = 'Age',\n",
    "              x = 'Sex',\n",
    "              hue = 'Survived',\n",
    "              split = True)"
   ]
  },
  {
   "cell_type": "markdown",
   "id": "e7dc862f",
   "metadata": {},
   "source": [
    "- 남자는 20대가 많아 사망했다.\n",
    "- 어린아이 중에서는 남자아이가 여자아이에 비해 많이 살았다.(시배적 배경추측)"
   ]
  },
  {
   "cell_type": "markdown",
   "id": "2e7600f6",
   "metadata": {},
   "source": [
    "### 특성공학\n",
    "- 기존에 존재하는 특성들을 이용해 다른 특성을 만드는 기법"
   ]
  },
  {
   "cell_type": "markdown",
   "id": "9fd737f6",
   "metadata": {
    "collapsed": true
   },
   "source": [
    "- SibSp : 타이타닉 호에 동승한 자매 및 배우자의 수 \n",
    "- Parch : 타이타닉 호에 동승한 부모 및 자식의 수\n",
    "\n",
    "- SibSp 와 Parch 를 합하여 가족이라는 새로운 컬럼을 생성해보자!\n",
    "- 새로운 컬럼 생성 = 특성 생성 -> 특성이 많아짐 -> 과대적합"
   ]
  },
  {
   "cell_type": "code",
   "execution_count": 45,
   "id": "92e661c5",
   "metadata": {},
   "outputs": [],
   "source": [
    "# 가족에는 나 자신도 포함되기 때문에 +1 을 해주자\n",
    "# 생존여부 포함해서 만들어준 tr 을 X_train 대신 넣음\n",
    "tr['Family'] = tr['SibSp'] + tr['Parch'] + 1 \n",
    "X_test['Family'] = X_test['SibSp'] + X_test['Parch'] + 1 "
   ]
  },
  {
   "cell_type": "code",
   "execution_count": 46,
   "id": "87da88ed",
   "metadata": {},
   "outputs": [
    {
     "data": {
      "text/plain": [
       "<AxesSubplot:xlabel='Family', ylabel='count'>"
      ]
     },
     "execution_count": 46,
     "metadata": {},
     "output_type": "execute_result"
    },
    {
     "data": {
      "image/png": "[encoded data removed]",
      "text/plain": [
       "<Figure size 432x288 with 1 Axes>"
      ]
     },
     "metadata": {
      "needs_background": "light"
     },
     "output_type": "display_data"
    }
   ],
   "source": [
    "sns.countplot(data = tr, \n",
    "             x = 'Family', \n",
    "             hue = 'Survived')"
   ]
  },
  {
   "cell_type": "markdown",
   "id": "f7c846af",
   "metadata": {},
   "source": [
    "- 1명 일때 죽은 비율이 높다.\n",
    "- 2~4명 일때는 생존 비율이 높다.\n",
    "- 5명 이상 일때는 죽은 비율이 높다.\n",
    "- Family라는 수치데이터를 그대로 써도 좋지만, 범주형 데이터로 변환해보자.\n",
    "- Binning (수치형 -> 범주형) : 사소한 관찰 오류를 줄여준다.(모델의 단순화 유도)"
   ]
  },
  {
   "cell_type": "markdown",
   "id": "0e0389c7",
   "metadata": {
    "collapsed": true
   },
   "source": [
    "- 가족수가 1이면 Alone , 2~4이면 Small, 5이상이면 Large 범주로 변경하자\n",
    "- cut 함수 사용"
   ]
  },
  {
   "cell_type": "code",
   "execution_count": 47,
   "id": "8ce0ed95",
   "metadata": {},
   "outputs": [],
   "source": [
    "b = [0, 1, 4, 11]  # bins속성에 넣을 구간만들기 / 1~1 , 2~4, 5~11 을 의미 \n",
    "label = ['Alone', 'Small', 'Large'] #구간별 범주\n",
    "tr['Family_G'] = pd.cut(x = tr['Family'], bins = b,  \n",
    "      labels = label)  # x = 자를값 , bins : 잘라낼 구간"
   ]
  },
  {
   "cell_type": "code",
   "execution_count": 48,
   "id": "5b5d1436",
   "metadata": {},
   "outputs": [
    {
     "data": {
      "text/plain": [
       "['Small', 'Alone', 'Large']\n",
       "Categories (3, object): ['Alone' < 'Small' < 'Large']"
      ]
     },
     "execution_count": 48,
     "metadata": {},
     "output_type": "execute_result"
    }
   ],
   "source": [
    "tr['Family_G'].unique()"
   ]
  },
  {
   "cell_type": "code",
   "execution_count": 49,
   "id": "3104ce50",
   "metadata": {},
   "outputs": [],
   "source": [
    "test['Family_G'] = pd.cut(x = test['Family'], bins = b, labels = label)"
   ]
  },
  {
   "cell_type": "code",
   "execution_count": 50,
   "id": "63824ad6",
   "metadata": {},
   "outputs": [
    {
     "data": {
      "text/plain": [
       "['Alone', 'Small', 'Large']\n",
       "Categories (3, object): ['Alone' < 'Small' < 'Large']"
      ]
     },
     "execution_count": 50,
     "metadata": {},
     "output_type": "execute_result"
    }
   ],
   "source": [
    "test['Family_G'].unique()"
   ]
  },
  {
   "cell_type": "code",
   "execution_count": 51,
   "id": "dcf15a4c",
   "metadata": {},
   "outputs": [
    {
     "data": {
      "text/plain": [
       "<AxesSubplot:xlabel='Family_G', ylabel='count'>"
      ]
     },
     "execution_count": 51,
     "metadata": {},
     "output_type": "execute_result"
    },
    {
     "data": {
      "image/png": "[encoded data removed]",
      "text/plain": [
       "<Figure size 432x288 with 1 Axes>"
      ]
     },
     "metadata": {
      "needs_background": "light"
     },
     "output_type": "display_data"
    }
   ],
   "source": [
    "sns.countplot(data = tr,\n",
    "             x = 'Family_G',\n",
    "             hue = 'Survived')"
   ]
  },
  {
   "cell_type": "markdown",
   "id": "75c3634f",
   "metadata": {},
   "source": [
    "## 이름 특성공학"
   ]
  },
  {
   "cell_type": "code",
   "execution_count": 52,
   "id": "9ae77382",
   "metadata": {},
   "outputs": [
    {
     "data": {
      "text/plain": [
       "0                                Braund, Mr. Owen Harris\n",
       "1      Cumings, Mrs. John Bradley (Florence Briggs Th...\n",
       "2                                 Heikkinen, Miss. Laina\n",
       "3           Futrelle, Mrs. Jacques Heath (Lily May Peel)\n",
       "4                               Allen, Mr. William Henry\n",
       "                             ...                        \n",
       "886                                Montvila, Rev. Juozas\n",
       "887                         Graham, Miss. Margaret Edith\n",
       "888             Johnston, Miss. Catherine Helen \"Carrie\"\n",
       "889                                Behr, Mr. Karl Howell\n",
       "890                                  Dooley, Mr. Patrick\n",
       "Name: Name, Length: 891, dtype: object"
      ]
     },
     "execution_count": 52,
     "metadata": {},
     "output_type": "execute_result"
    }
   ],
   "source": [
    "tr['Name']"
   ]
  },
  {
   "cell_type": "code",
   "execution_count": 53,
   "id": "13ea4df0",
   "metadata": {
    "scrolled": true
   },
   "outputs": [
    {
     "data": {
      "text/plain": [
       "'Braund, Mr. Owen Harris'"
      ]
     },
     "execution_count": 53,
     "metadata": {},
     "output_type": "execute_result"
    }
   ],
   "source": [
    "tr['Name'][0]"
   ]
  },
  {
   "cell_type": "code",
   "execution_count": 54,
   "id": "fd85bf0e",
   "metadata": {},
   "outputs": [
    {
     "data": {
      "text/plain": [
       "['Braund, Mr', ' Owen Harris']"
      ]
     },
     "execution_count": 54,
     "metadata": {},
     "output_type": "execute_result"
    }
   ],
   "source": [
    "tr['Name'][0].split('.')"
   ]
  },
  {
   "cell_type": "code",
   "execution_count": 55,
   "id": "b3208b49",
   "metadata": {},
   "outputs": [
    {
     "data": {
      "text/plain": [
       "'Braund, Mr'"
      ]
     },
     "execution_count": 55,
     "metadata": {},
     "output_type": "execute_result"
    }
   ],
   "source": [
    "tr['Name'][0].split('.')[0]"
   ]
  },
  {
   "cell_type": "code",
   "execution_count": 56,
   "id": "669ba035",
   "metadata": {},
   "outputs": [
    {
     "data": {
      "text/plain": [
       "'Mr'"
      ]
     },
     "execution_count": 56,
     "metadata": {},
     "output_type": "execute_result"
    }
   ],
   "source": [
    "# .strip() 공백 제거\n",
    "tr['Name'][0].split('.')[0].split(',')[1].strip()"
   ]
  },
  {
   "cell_type": "code",
   "execution_count": 57,
   "id": "e2100513",
   "metadata": {},
   "outputs": [],
   "source": [
    "def split_title(row):\n",
    "    return row.split('.')[0].split(',')[1].strip()"
   ]
  },
  {
   "cell_type": "code",
   "execution_count": 58,
   "id": "9c39a65a",
   "metadata": {},
   "outputs": [
    {
     "data": {
      "text/plain": [
       "0        Mr\n",
       "1       Mrs\n",
       "2      Miss\n",
       "3       Mrs\n",
       "4        Mr\n",
       "       ... \n",
       "886     Rev\n",
       "887    Miss\n",
       "888    Miss\n",
       "889      Mr\n",
       "890      Mr\n",
       "Name: Name, Length: 891, dtype: object"
      ]
     },
     "execution_count": 58,
     "metadata": {},
     "output_type": "execute_result"
    }
   ],
   "source": [
    "tr['Name'].apply(split_title)"
   ]
  },
  {
   "cell_type": "code",
   "execution_count": 59,
   "id": "a41858c5",
   "metadata": {},
   "outputs": [],
   "source": [
    "# Title 이라는 새로운 변수 추가\n",
    "tr['Title'] = tr['Name'].apply(split_title)"
   ]
  },
  {
   "cell_type": "code",
   "execution_count": 60,
   "id": "a64a7815",
   "metadata": {},
   "outputs": [],
   "source": [
    "test['Title'] = test['Name'].apply(split_title)"
   ]
  },
  {
   "cell_type": "code",
   "execution_count": 61,
   "id": "2ff90792",
   "metadata": {},
   "outputs": [
    {
     "data": {
      "text/plain": [
       "array(['Mr', 'Mrs', 'Miss', 'Master', 'Don', 'Rev', 'Dr', 'Mme', 'Ms',\n",
       "       'Major', 'Lady', 'Sir', 'Mlle', 'Col', 'Capt', 'the Countess',\n",
       "       'Jonkheer'], dtype=object)"
      ]
     },
     "execution_count": 61,
     "metadata": {},
     "output_type": "execute_result"
    }
   ],
   "source": [
    "# 호칭만 분리 완료\n",
    "tr['Title'].unique()"
   ]
  },
  {
   "cell_type": "code",
   "execution_count": 62,
   "id": "56cf1a53",
   "metadata": {},
   "outputs": [
    {
     "data": {
      "text/plain": [
       "Mr              517\n",
       "Miss            182\n",
       "Mrs             125\n",
       "Master           40\n",
       "Dr                7\n",
       "Rev               6\n",
       "Col               2\n",
       "Mlle              2\n",
       "Major             2\n",
       "the Countess      1\n",
       "Lady              1\n",
       "Ms                1\n",
       "Capt              1\n",
       "Sir               1\n",
       "Jonkheer          1\n",
       "Don               1\n",
       "Mme               1\n",
       "Name: Title, dtype: int64"
      ]
     },
     "execution_count": 62,
     "metadata": {},
     "output_type": "execute_result"
    }
   ],
   "source": [
    "tr['Title'].value_counts()"
   ]
  },
  {
   "cell_type": "markdown",
   "id": "82b8948c",
   "metadata": {
    "collapsed": true
   },
   "source": [
    "- Mr  성인남자\n",
    "- Mrs 결혼을 한 여성\n",
    "- Ms 결혼 여부를 밝히고 싶지 않을 때 사용하는 호칭\n",
    "- Miss 결혼을 하지 않은 여성\n",
    "- Master 결혼을 하지 않은 남성(주로 청소년)\n",
    "- Dr 의사"
   ]
  },
  {
   "cell_type": "code",
   "execution_count": 63,
   "id": "a04e34cd",
   "metadata": {},
   "outputs": [
    {
     "data": {
      "text/plain": [
       "(0.0, 20.0)"
      ]
     },
     "execution_count": 63,
     "metadata": {},
     "output_type": "execute_result"
    },
    {
     "data": {
      "image/png": "[encoded data removed]",
      "text/plain": [
       "<Figure size 1440x360 with 1 Axes>"
      ]
     },
     "metadata": {
      "needs_background": "light"
     },
     "output_type": "display_data"
    }
   ],
   "source": [
    "plt.figure(figsize = (20, 5))\n",
    "sns.countplot(data = tr,\n",
    "             x = 'Title',\n",
    "             hue = 'Survived')\n",
    "plt.ylim(0,20)"
   ]
  },
  {
   "cell_type": "markdown",
   "id": "e41ee991",
   "metadata": {},
   "source": [
    "- Mr, Mrs, Miss : 성별과 관련된 호칭\n",
    "- Master : 나이가 어린 남성(나이 시각화에서 얻은 지식과 관련)\n",
    "- 나머지 호칭은 인원수가 적고 종류가 많기 때문에 통합"
   ]
  },
  {
   "cell_type": "code",
   "execution_count": 64,
   "id": "cfafa74f",
   "metadata": {},
   "outputs": [],
   "source": [
    "#map 함수 사용하기\n",
    "title_dic = {\n",
    "    'Mr' : 'Mr',\n",
    "    'Mrs' : 'Mrs',\n",
    "    'Miss' : 'Miss',\n",
    "    'Master' : 'Master',\n",
    "    'Mme' : 'Miss',\n",
    "    'Lady' : 'Miss',\n",
    "    'Ms' : 'Miss',\n",
    "    'Don' : 'Other',\n",
    "    'Rev' : 'Other',\n",
    "    'Dr' : 'Other',\n",
    "    'Major' : 'Other',\n",
    "    'Sir' : 'Other',\n",
    "    'Mlle' : 'Other',\n",
    "    'Col' : 'Other',\n",
    "    'Capt' : 'Other',\n",
    "    'the Countess' : 'Other',\n",
    "    'Jonkheer' : 'Other',\n",
    "    'Dona' : 'Other',\n",
    "}"
   ]
  },
  {
   "cell_type": "code",
   "execution_count": 65,
   "id": "7bce1a7b",
   "metadata": {},
   "outputs": [],
   "source": [
    "tr['Title2'] = tr['Title'].map(title_dic)"
   ]
  },
  {
   "cell_type": "code",
   "execution_count": 66,
   "id": "8ce78259",
   "metadata": {},
   "outputs": [
    {
     "data": {
      "text/plain": [
       "array(['Mr', 'Mrs', 'Miss', 'Master', 'Other'], dtype=object)"
      ]
     },
     "execution_count": 66,
     "metadata": {},
     "output_type": "execute_result"
    }
   ],
   "source": [
    "tr['Title2'].unique()"
   ]
  },
  {
   "cell_type": "code",
   "execution_count": 67,
   "id": "644cb072",
   "metadata": {},
   "outputs": [
    {
     "data": {
      "text/plain": [
       "array(['Mr', 'Mrs', 'Miss', 'Master', 'Other'], dtype=object)"
      ]
     },
     "execution_count": 67,
     "metadata": {},
     "output_type": "execute_result"
    }
   ],
   "source": [
    "test['Title2'] = test['Title'].map(title_dic)\n",
    "test['Title2'].unique()"
   ]
  },
  {
   "cell_type": "markdown",
   "id": "eefed3dd",
   "metadata": {},
   "source": [
    "### 사용하지 않을 컬럼 정리"
   ]
  },
  {
   "cell_type": "code",
   "execution_count": 68,
   "id": "f9f90e14",
   "metadata": {},
   "outputs": [
    {
     "data": {
      "text/plain": [
       "Index(['Pclass', 'Name', 'Sex', 'Age', 'SibSp', 'Parch', 'Ticket', 'Fare',\n",
       "       'Cabin', 'Embarked', 'Survived', 'Family', 'Family_G', 'Title',\n",
       "       'Title2'],\n",
       "      dtype='object')"
      ]
     },
     "execution_count": 68,
     "metadata": {},
     "output_type": "execute_result"
    }
   ],
   "source": [
    "tr.columns # 'Name' , 'Title' , 'Ticket' 을 정리해보자 !"
   ]
  },
  {
   "cell_type": "code",
   "execution_count": 69,
   "id": "521ef5b8",
   "metadata": {},
   "outputs": [],
   "source": [
    "tr.drop(['Name' , 'Title' , 'Ticket'], axis =1, inplace= True )"
   ]
  },
  {
   "cell_type": "code",
   "execution_count": 70,
   "id": "39c0545d",
   "metadata": {},
   "outputs": [],
   "source": [
    "test.drop(['Name' , 'Title' , 'Ticket'], axis =1, inplace= True)"
   ]
  },
  {
   "cell_type": "code",
   "execution_count": 71,
   "id": "272875b4",
   "metadata": {},
   "outputs": [
    {
     "name": "stdout",
     "output_type": "stream",
     "text": [
      "<class 'pandas.core.frame.DataFrame'>\n",
      "RangeIndex: 891 entries, 0 to 890\n",
      "Data columns (total 12 columns):\n",
      " #   Column    Non-Null Count  Dtype   \n",
      "---  ------    --------------  -----   \n",
      " 0   Pclass    891 non-null    int64   \n",
      " 1   Sex       891 non-null    object  \n",
      " 2   Age       891 non-null    float64 \n",
      " 3   SibSp     891 non-null    int64   \n",
      " 4   Parch     891 non-null    int64   \n",
      " 5   Fare      891 non-null    float64 \n",
      " 6   Cabin     891 non-null    object  \n",
      " 7   Embarked  891 non-null    object  \n",
      " 8   Survived  891 non-null    int64   \n",
      " 9   Family    891 non-null    int64   \n",
      " 10  Family_G  891 non-null    category\n",
      " 11  Title2    891 non-null    object  \n",
      "dtypes: category(1), float64(2), int64(5), object(4)\n",
      "memory usage: 77.7+ KB\n"
     ]
    }
   ],
   "source": [
    "tr.info()"
   ]
  },
  {
   "cell_type": "code",
   "execution_count": null,
   "id": "c7b764b6",
   "metadata": {},
   "outputs": [],
   "source": []
  },
  {
   "cell_type": "markdown",
   "id": "bd655566",
   "metadata": {},
   "source": [
    "- 학습하기 전에 object형 타입이 있는경우 계산 불가능\n",
    "- 숫자형 데이터로 변경해줘야한다\n",
    "- 인코딩 필수 "
   ]
  },
  {
   "cell_type": "code",
   "execution_count": 72,
   "id": "56079b35",
   "metadata": {},
   "outputs": [
    {
     "data": {
      "text/plain": [
       "Index(['Pclass', 'Sex', 'Age', 'SibSp', 'Parch', 'Fare', 'Cabin', 'Embarked',\n",
       "       'Survived', 'Family', 'Family_G', 'Title2'],\n",
       "      dtype='object')"
      ]
     },
     "execution_count": 72,
     "metadata": {},
     "output_type": "execute_result"
    }
   ],
   "source": [
    "tr.columns"
   ]
  },
  {
   "cell_type": "code",
   "execution_count": 73,
   "id": "9e0ee88d",
   "metadata": {},
   "outputs": [],
   "source": [
    "c_f = ['Sex','Cabin','Embarked','Family_G','Title2']"
   ]
  },
  {
   "cell_type": "code",
   "execution_count": 74,
   "id": "b2796534",
   "metadata": {},
   "outputs": [
    {
     "data": {
      "text/html": [
       "<div>\n",
       "<style scoped>\n",
       "    .dataframe tbody tr th:only-of-type {\n",
       "        vertical-align: middle;\n",
       "    }\n",
       "\n",
       "    .dataframe tbody tr th {\n",
       "        vertical-align: top;\n",
       "    }\n",
       "\n",
       "    .dataframe thead th {\n",
       "        text-align: right;\n",
       "    }\n",
       "</style>\n",
       "<table border=\"1\" class=\"dataframe\">\n",
       "  <thead>\n",
       "    <tr style=\"text-align: right;\">\n",
       "      <th></th>\n",
       "      <th>Title2_Master</th>\n",
       "      <th>Title2_Miss</th>\n",
       "      <th>Title2_Mr</th>\n",
       "      <th>Title2_Mrs</th>\n",
       "      <th>Title2_Other</th>\n",
       "    </tr>\n",
       "  </thead>\n",
       "  <tbody>\n",
       "    <tr>\n",
       "      <th>0</th>\n",
       "      <td>0</td>\n",
       "      <td>0</td>\n",
       "      <td>1</td>\n",
       "      <td>0</td>\n",
       "      <td>0</td>\n",
       "    </tr>\n",
       "    <tr>\n",
       "      <th>1</th>\n",
       "      <td>0</td>\n",
       "      <td>0</td>\n",
       "      <td>0</td>\n",
       "      <td>1</td>\n",
       "      <td>0</td>\n",
       "    </tr>\n",
       "    <tr>\n",
       "      <th>2</th>\n",
       "      <td>0</td>\n",
       "      <td>1</td>\n",
       "      <td>0</td>\n",
       "      <td>0</td>\n",
       "      <td>0</td>\n",
       "    </tr>\n",
       "    <tr>\n",
       "      <th>3</th>\n",
       "      <td>0</td>\n",
       "      <td>0</td>\n",
       "      <td>0</td>\n",
       "      <td>1</td>\n",
       "      <td>0</td>\n",
       "    </tr>\n",
       "    <tr>\n",
       "      <th>4</th>\n",
       "      <td>0</td>\n",
       "      <td>0</td>\n",
       "      <td>1</td>\n",
       "      <td>0</td>\n",
       "      <td>0</td>\n",
       "    </tr>\n",
       "    <tr>\n",
       "      <th>...</th>\n",
       "      <td>...</td>\n",
       "      <td>...</td>\n",
       "      <td>...</td>\n",
       "      <td>...</td>\n",
       "      <td>...</td>\n",
       "    </tr>\n",
       "    <tr>\n",
       "      <th>886</th>\n",
       "      <td>0</td>\n",
       "      <td>0</td>\n",
       "      <td>0</td>\n",
       "      <td>0</td>\n",
       "      <td>1</td>\n",
       "    </tr>\n",
       "    <tr>\n",
       "      <th>887</th>\n",
       "      <td>0</td>\n",
       "      <td>1</td>\n",
       "      <td>0</td>\n",
       "      <td>0</td>\n",
       "      <td>0</td>\n",
       "    </tr>\n",
       "    <tr>\n",
       "      <th>888</th>\n",
       "      <td>0</td>\n",
       "      <td>1</td>\n",
       "      <td>0</td>\n",
       "      <td>0</td>\n",
       "      <td>0</td>\n",
       "    </tr>\n",
       "    <tr>\n",
       "      <th>889</th>\n",
       "      <td>0</td>\n",
       "      <td>0</td>\n",
       "      <td>1</td>\n",
       "      <td>0</td>\n",
       "      <td>0</td>\n",
       "    </tr>\n",
       "    <tr>\n",
       "      <th>890</th>\n",
       "      <td>0</td>\n",
       "      <td>0</td>\n",
       "      <td>1</td>\n",
       "      <td>0</td>\n",
       "      <td>0</td>\n",
       "    </tr>\n",
       "  </tbody>\n",
       "</table>\n",
       "<p>891 rows × 5 columns</p>\n",
       "</div>"
      ],
      "text/plain": [
       "     Title2_Master  Title2_Miss  Title2_Mr  Title2_Mrs  Title2_Other\n",
       "0                0            0          1           0             0\n",
       "1                0            0          0           1             0\n",
       "2                0            1          0           0             0\n",
       "3                0            0          0           1             0\n",
       "4                0            0          1           0             0\n",
       "..             ...          ...        ...         ...           ...\n",
       "886              0            0          0           0             1\n",
       "887              0            1          0           0             0\n",
       "888              0            1          0           0             0\n",
       "889              0            0          1           0             0\n",
       "890              0            0          1           0             0\n",
       "\n",
       "[891 rows x 5 columns]"
      ]
     },
     "execution_count": 74,
     "metadata": {},
     "output_type": "execute_result"
    }
   ],
   "source": [
    "pd.get_dummies(tr['Title2'], prefix = 'Title2')"
   ]
  },
  {
   "cell_type": "code",
   "execution_count": 75,
   "id": "d7c7ee23",
   "metadata": {},
   "outputs": [],
   "source": [
    "for i in c_f:\n",
    "    one_hot = pd.get_dummies(tr[i], prefix = i)\n",
    "    tr.drop(i, axis = 1, inplace = True) # 기존 object 컬럼 제거\n",
    "    tr = pd.concat([tr, one_hot], axis = 1) # 기존데이터와 원핫인코딩한 데이터프레임 합치기"
   ]
  },
  {
   "cell_type": "code",
   "execution_count": 76,
   "id": "15902b49",
   "metadata": {
    "scrolled": true
   },
   "outputs": [
    {
     "name": "stdout",
     "output_type": "stream",
     "text": [
      "<class 'pandas.core.frame.DataFrame'>\n",
      "RangeIndex: 891 entries, 0 to 890\n",
      "Data columns (total 29 columns):\n",
      " #   Column          Non-Null Count  Dtype  \n",
      "---  ------          --------------  -----  \n",
      " 0   Pclass          891 non-null    int64  \n",
      " 1   Age             891 non-null    float64\n",
      " 2   SibSp           891 non-null    int64  \n",
      " 3   Parch           891 non-null    int64  \n",
      " 4   Fare            891 non-null    float64\n",
      " 5   Survived        891 non-null    int64  \n",
      " 6   Family          891 non-null    int64  \n",
      " 7   Sex_female      891 non-null    uint8  \n",
      " 8   Sex_male        891 non-null    uint8  \n",
      " 9   Cabin_A         891 non-null    uint8  \n",
      " 10  Cabin_B         891 non-null    uint8  \n",
      " 11  Cabin_C         891 non-null    uint8  \n",
      " 12  Cabin_D         891 non-null    uint8  \n",
      " 13  Cabin_E         891 non-null    uint8  \n",
      " 14  Cabin_F         891 non-null    uint8  \n",
      " 15  Cabin_G         891 non-null    uint8  \n",
      " 16  Cabin_M         891 non-null    uint8  \n",
      " 17  Cabin_T         891 non-null    uint8  \n",
      " 18  Embarked_C      891 non-null    uint8  \n",
      " 19  Embarked_Q      891 non-null    uint8  \n",
      " 20  Embarked_S      891 non-null    uint8  \n",
      " 21  Family_G_Alone  891 non-null    uint8  \n",
      " 22  Family_G_Small  891 non-null    uint8  \n",
      " 23  Family_G_Large  891 non-null    uint8  \n",
      " 24  Title2_Master   891 non-null    uint8  \n",
      " 25  Title2_Miss     891 non-null    uint8  \n",
      " 26  Title2_Mr       891 non-null    uint8  \n",
      " 27  Title2_Mrs      891 non-null    uint8  \n",
      " 28  Title2_Other    891 non-null    uint8  \n",
      "dtypes: float64(2), int64(5), uint8(22)\n",
      "memory usage: 68.0 KB\n"
     ]
    }
   ],
   "source": [
    "tr.info()"
   ]
  },
  {
   "cell_type": "code",
   "execution_count": 77,
   "id": "8ebb7a5f",
   "metadata": {},
   "outputs": [],
   "source": [
    "for i in c_f:\n",
    "    one_hot = pd.get_dummies(test[i], prefix = i)\n",
    "    test.drop(i, axis = 1, inplace = True) # 기존 object 컬럼 제거\n",
    "    test = pd.concat([test, one_hot], axis = 1) # 기존데이터와 원핫인코딩한 데이터프레임 합치기"
   ]
  },
  {
   "cell_type": "code",
   "execution_count": 78,
   "id": "f85f5985",
   "metadata": {},
   "outputs": [
    {
     "name": "stdout",
     "output_type": "stream",
     "text": [
      "<class 'pandas.core.frame.DataFrame'>\n",
      "RangeIndex: 418 entries, 0 to 417\n",
      "Data columns (total 27 columns):\n",
      " #   Column          Non-Null Count  Dtype  \n",
      "---  ------          --------------  -----  \n",
      " 0   Pclass          418 non-null    int64  \n",
      " 1   Age             418 non-null    float64\n",
      " 2   SibSp           418 non-null    int64  \n",
      " 3   Parch           418 non-null    int64  \n",
      " 4   Fare            418 non-null    float64\n",
      " 5   Family          418 non-null    int64  \n",
      " 6   Sex_female      418 non-null    uint8  \n",
      " 7   Sex_male        418 non-null    uint8  \n",
      " 8   Cabin_A         418 non-null    uint8  \n",
      " 9   Cabin_B         418 non-null    uint8  \n",
      " 10  Cabin_C         418 non-null    uint8  \n",
      " 11  Cabin_D         418 non-null    uint8  \n",
      " 12  Cabin_E         418 non-null    uint8  \n",
      " 13  Cabin_F         418 non-null    uint8  \n",
      " 14  Cabin_G         418 non-null    uint8  \n",
      " 15  Cabin_M         418 non-null    uint8  \n",
      " 16  Embarked_C      418 non-null    uint8  \n",
      " 17  Embarked_Q      418 non-null    uint8  \n",
      " 18  Embarked_S      418 non-null    uint8  \n",
      " 19  Family_G_Alone  418 non-null    uint8  \n",
      " 20  Family_G_Small  418 non-null    uint8  \n",
      " 21  Family_G_Large  418 non-null    uint8  \n",
      " 22  Title2_Master   418 non-null    uint8  \n",
      " 23  Title2_Miss     418 non-null    uint8  \n",
      " 24  Title2_Mr       418 non-null    uint8  \n",
      " 25  Title2_Mrs      418 non-null    uint8  \n",
      " 26  Title2_Other    418 non-null    uint8  \n",
      "dtypes: float64(2), int64(4), uint8(21)\n",
      "memory usage: 28.3 KB\n"
     ]
    }
   ],
   "source": [
    "test.info()"
   ]
  },
  {
   "cell_type": "code",
   "execution_count": 79,
   "id": "f87b51f6",
   "metadata": {},
   "outputs": [
    {
     "data": {
      "text/plain": [
       "{'Cabin_T', 'Survived'}"
      ]
     },
     "execution_count": 79,
     "metadata": {},
     "output_type": "execute_result"
    }
   ],
   "source": [
    "set(tr.columns) - set (test.columns)"
   ]
  },
  {
   "cell_type": "code",
   "execution_count": 80,
   "id": "2d52216a",
   "metadata": {},
   "outputs": [
    {
     "data": {
      "text/plain": [
       "Index(['Pclass', 'Age', 'SibSp', 'Parch', 'Fare', 'Family', 'Sex_female',\n",
       "       'Sex_male', 'Cabin_A', 'Cabin_B', 'Cabin_C', 'Cabin_D', 'Cabin_E',\n",
       "       'Cabin_F', 'Cabin_G', 'Cabin_M', 'Embarked_C', 'Embarked_Q',\n",
       "       'Embarked_S', 'Family_G_Alone', 'Family_G_Small', 'Family_G_Large',\n",
       "       'Title2_Master', 'Title2_Miss', 'Title2_Mr', 'Title2_Mrs',\n",
       "       'Title2_Other'],\n",
       "      dtype='object')"
      ]
     },
     "execution_count": 80,
     "metadata": {},
     "output_type": "execute_result"
    }
   ],
   "source": [
    "test.columns"
   ]
  },
  {
   "cell_type": "code",
   "execution_count": 81,
   "id": "cf380f31",
   "metadata": {},
   "outputs": [],
   "source": [
    "# test 데이터에 Cabin_T 가 없기 때문에 tr 데이터에서도 삭제\n",
    "# 다음에 다시 set - set 연산\n",
    "tr.drop('Cabin_T', axis = 1 , inplace= True)"
   ]
  },
  {
   "cell_type": "code",
   "execution_count": 82,
   "id": "64182cfb",
   "metadata": {},
   "outputs": [],
   "source": [
    "X_train = tr.drop('Survived', axis= 1)\n",
    "y_train = tr['Survived']"
   ]
  },
  {
   "cell_type": "code",
   "execution_count": 83,
   "id": "afae4c47",
   "metadata": {},
   "outputs": [
    {
     "data": {
      "text/plain": [
       "((891, 27), (891,))"
      ]
     },
     "execution_count": 83,
     "metadata": {},
     "output_type": "execute_result"
    }
   ],
   "source": [
    "X_train.shape, y_train.shape"
   ]
  },
  {
   "cell_type": "code",
   "execution_count": 84,
   "id": "4bf1d4b9",
   "metadata": {},
   "outputs": [],
   "source": [
    "X_test = test"
   ]
  },
  {
   "cell_type": "code",
   "execution_count": 85,
   "id": "76d01643",
   "metadata": {},
   "outputs": [
    {
     "data": {
      "text/plain": [
       "(418, 27)"
      ]
     },
     "execution_count": 85,
     "metadata": {},
     "output_type": "execute_result"
    }
   ],
   "source": [
    "X_test.shape"
   ]
  },
  {
   "cell_type": "markdown",
   "id": "7e682d88",
   "metadata": {},
   "source": [
    "## 모델설계"
   ]
  },
  {
   "cell_type": "code",
   "execution_count": 86,
   "id": "3a5fe92e",
   "metadata": {},
   "outputs": [],
   "source": [
    "from sklearn.neighbors import KNeighborsClassifier\n",
    "from sklearn.tree import DecisionTreeClassifier"
   ]
  },
  {
   "cell_type": "code",
   "execution_count": 87,
   "id": "feb8d40d",
   "metadata": {},
   "outputs": [],
   "source": [
    "K_model = KNeighborsClassifier()\n",
    "t_model = DecisionTreeClassifier()"
   ]
  },
  {
   "cell_type": "markdown",
   "id": "73047c61",
   "metadata": {},
   "source": [
    "#### train , validation 분리 "
   ]
  },
  {
   "cell_type": "markdown",
   "id": "6d0d85ce",
   "metadata": {},
   "source": [
    "데이터를 훈련세트와 테스트세트로 분리 할 때 인덱스 순서대로 분리하면 데이터 불균형 문제가 발생, 이를 해결하기 위해 난수를 이용해 추출하는 방식 - 랜덤샘플링"
   ]
  },
  {
   "cell_type": "code",
   "execution_count": 88,
   "id": "a93567a3",
   "metadata": {},
   "outputs": [],
   "source": [
    "# X_train.shape (891, 27) -> 7 : 3 으로 다시 분리\n",
    "from sklearn.model_selection import train_test_split"
   ]
  },
  {
   "cell_type": "code",
   "execution_count": 89,
   "id": "08fc0d53",
   "metadata": {},
   "outputs": [],
   "source": [
    "X_train, X_val, y_train, y_val = train_test_split(X_train, y_train)"
   ]
  },
  {
   "cell_type": "code",
   "execution_count": 90,
   "id": "9e72d2e1",
   "metadata": {},
   "outputs": [
    {
     "data": {
      "text/plain": [
       "(668, 27)"
      ]
     },
     "execution_count": 90,
     "metadata": {},
     "output_type": "execute_result"
    }
   ],
   "source": [
    "X_train.shape"
   ]
  },
  {
   "cell_type": "code",
   "execution_count": 91,
   "id": "db966fca",
   "metadata": {},
   "outputs": [
    {
     "data": {
      "text/plain": [
       "(223, 27)"
      ]
     },
     "execution_count": 91,
     "metadata": {},
     "output_type": "execute_result"
    }
   ],
   "source": [
    "X_val.shape"
   ]
  },
  {
   "cell_type": "code",
   "execution_count": 92,
   "id": "d1acb64e",
   "metadata": {},
   "outputs": [
    {
     "data": {
      "text/plain": [
       "DecisionTreeClassifier()"
      ]
     },
     "execution_count": 92,
     "metadata": {},
     "output_type": "execute_result"
    }
   ],
   "source": [
    "# 학습하기\n",
    "K_model.fit(X_train, y_train)\n",
    "t_model.fit(X_train, y_train)"
   ]
  },
  {
   "cell_type": "code",
   "execution_count": 93,
   "id": "f7d80e4c",
   "metadata": {},
   "outputs": [
    {
     "data": {
      "text/plain": [
       "0.726457399103139"
      ]
     },
     "execution_count": 93,
     "metadata": {},
     "output_type": "execute_result"
    }
   ],
   "source": [
    "#평가\n",
    "K_model.score(X_val, y_val)"
   ]
  },
  {
   "cell_type": "code",
   "execution_count": 94,
   "id": "ff7b2cdf",
   "metadata": {},
   "outputs": [
    {
     "data": {
      "text/plain": [
       "0.7443946188340808"
      ]
     },
     "execution_count": 94,
     "metadata": {},
     "output_type": "execute_result"
    }
   ],
   "source": [
    "# tree 모델로 검증하는게 정확도가 조금더 좋은것을 알수 있음\n",
    "t_model.score(X_val, y_val)"
   ]
  },
  {
   "cell_type": "markdown",
   "id": "745f215a",
   "metadata": {},
   "source": [
    "## 교차검증"
   ]
  },
  {
   "cell_type": "code",
   "execution_count": 95,
   "id": "7d2c5b98",
   "metadata": {},
   "outputs": [],
   "source": [
    "from sklearn.model_selection import cross_val_score"
   ]
  },
  {
   "cell_type": "code",
   "execution_count": 96,
   "id": "9ef2a67a",
   "metadata": {},
   "outputs": [
    {
     "data": {
      "text/plain": [
       "array([0.73134328, 0.71641791, 0.79104478, 0.68421053, 0.79699248])"
      ]
     },
     "execution_count": 96,
     "metadata": {},
     "output_type": "execute_result"
    }
   ],
   "source": [
    "k_result = cross_val_score(K_model, X_train, y_train, cv = 5)\n",
    "k_result"
   ]
  },
  {
   "cell_type": "code",
   "execution_count": 97,
   "id": "0434ee31",
   "metadata": {},
   "outputs": [
    {
     "data": {
      "text/plain": [
       "array([0.79104478, 0.80597015, 0.76865672, 0.82706767, 0.79699248])"
      ]
     },
     "execution_count": 97,
     "metadata": {},
     "output_type": "execute_result"
    }
   ],
   "source": [
    "t_result = cross_val_score(t_model, X_train, y_train, cv = 5)\n",
    "t_result"
   ]
  },
  {
   "cell_type": "markdown",
   "id": "2869b597",
   "metadata": {},
   "source": [
    "### 하이퍼파라미터튜닝"
   ]
  },
  {
   "cell_type": "code",
   "execution_count": 98,
   "id": "9d3d753b",
   "metadata": {},
   "outputs": [],
   "source": [
    "score_list = []\n",
    "for i in range(1, 50):\n",
    "    K_model = KNeighborsClassifier(n_neighbors = i)\n",
    "    k_result = cross_val_score(K_model, X_train, y_train, cv = 5)\n",
    "    #k_result 평균값을 리스트에 넣어 주겟다!\n",
    "    score_list.append(k_result.mean())"
   ]
  },
  {
   "cell_type": "code",
   "execution_count": 99,
   "id": "d1b74a26",
   "metadata": {},
   "outputs": [
    {
     "data": {
      "image/png": "[encoded data removed]",
      "text/plain": [
       "<Figure size 3240x360 with 1 Axes>"
      ]
     },
     "metadata": {
      "needs_background": "light"
     },
     "output_type": "display_data"
    }
   ],
   "source": [
    "plt.figure(figsize = (45, 5))\n",
    "#plt.plot(x축값, y축값) -> 그래프를 그리는 함수\n",
    "#x축값 = 1~49가 나오는 함수 , y축값 = score_list\n",
    "plt.plot(range(1, 50), score_list)\n",
    "plt.xticks(range(1,50))\n",
    "plt.grid()\n",
    "plt.xlabel('n_neighbors')\n",
    "plt.ylabel('score')\n",
    "plt.show()"
   ]
  },
  {
   "cell_type": "code",
   "execution_count": 110,
   "id": "f79283aa",
   "metadata": {},
   "outputs": [
    {
     "data": {
      "text/plain": [
       "0.7410054988216811"
      ]
     },
     "execution_count": 110,
     "metadata": {},
     "output_type": "execute_result"
    }
   ],
   "source": [
    "score_list[9]"
   ]
  },
  {
   "cell_type": "markdown",
   "id": "f2bfbc22",
   "metadata": {},
   "source": [
    "K값의 최적은 9이다."
   ]
  },
  {
   "cell_type": "code",
   "execution_count": 101,
   "id": "9772e5e8",
   "metadata": {},
   "outputs": [],
   "source": [
    "score_list2 = []\n",
    "for i in range(1, 50):\n",
    "    t_model = DecisionTreeClassifier(max_depth = i)\n",
    "    t_result = cross_val_score(t_model, X_train, y_train, cv = 5)\n",
    "    score_list2.append(t_result.mean())"
   ]
  },
  {
   "cell_type": "code",
   "execution_count": 102,
   "id": "191f0b41",
   "metadata": {},
   "outputs": [
    {
     "data": {
      "image/png": "[encoded data removed]",
      "text/plain": [
       "<Figure size 3240x360 with 1 Axes>"
      ]
     },
     "metadata": {
      "needs_background": "light"
     },
     "output_type": "display_data"
    }
   ],
   "source": [
    "plt.figure(figsize = (45, 5))\n",
    "plt.plot(range(1, 50), score_list2)\n",
    "plt.xticks(range(1,50))\n",
    "plt.grid()\n",
    "plt.xlabel('max_depth')\n",
    "plt.ylabel('score')\n",
    "plt.show()"
   ]
  },
  {
   "cell_type": "code",
   "execution_count": 111,
   "id": "ecdebca9",
   "metadata": {
    "scrolled": true
   },
   "outputs": [
    {
     "data": {
      "text/plain": [
       "0.8069015823139939"
      ]
     },
     "execution_count": 111,
     "metadata": {},
     "output_type": "execute_result"
    }
   ],
   "source": [
    "#max_depth 8일때 최적\n",
    "score_list2[8]"
   ]
  },
  {
   "cell_type": "code",
   "execution_count": 112,
   "id": "ed2b3ebe",
   "metadata": {},
   "outputs": [],
   "source": [
    "final_knn = KNeighborsClassifier(n_neighbors = 9)\n",
    "final_tree = DecisionTreeClassifier(max_depth= 8)"
   ]
  },
  {
   "cell_type": "code",
   "execution_count": 113,
   "id": "7c04d58b",
   "metadata": {},
   "outputs": [
    {
     "data": {
      "text/plain": [
       "DecisionTreeClassifier(max_depth=8)"
      ]
     },
     "execution_count": 113,
     "metadata": {},
     "output_type": "execute_result"
    }
   ],
   "source": [
    "final_knn.fit(X_train, y_train)\n",
    "final_tree.fit(X_train, y_train)"
   ]
  },
  {
   "cell_type": "code",
   "execution_count": 114,
   "id": "a43f10fd",
   "metadata": {},
   "outputs": [],
   "source": [
    "k_pre = final_knn.predict(X_test)\n",
    "t_pre = final_tree.predict(X_test)"
   ]
  },
  {
   "cell_type": "markdown",
   "id": "82c44b35",
   "metadata": {},
   "source": [
    "### 예측결과 저장하기"
   ]
  },
  {
   "cell_type": "code",
   "execution_count": 115,
   "id": "ab4ee08d",
   "metadata": {},
   "outputs": [
    {
     "data": {
      "text/html": [
       "<div>\n",
       "<style scoped>\n",
       "    .dataframe tbody tr th:only-of-type {\n",
       "        vertical-align: middle;\n",
       "    }\n",
       "\n",
       "    .dataframe tbody tr th {\n",
       "        vertical-align: top;\n",
       "    }\n",
       "\n",
       "    .dataframe thead th {\n",
       "        text-align: right;\n",
       "    }\n",
       "</style>\n",
       "<table border=\"1\" class=\"dataframe\">\n",
       "  <thead>\n",
       "    <tr style=\"text-align: right;\">\n",
       "      <th></th>\n",
       "      <th>PassengerId</th>\n",
       "      <th>Survived</th>\n",
       "    </tr>\n",
       "  </thead>\n",
       "  <tbody>\n",
       "    <tr>\n",
       "      <th>0</th>\n",
       "      <td>892</td>\n",
       "      <td>0</td>\n",
       "    </tr>\n",
       "    <tr>\n",
       "      <th>1</th>\n",
       "      <td>893</td>\n",
       "      <td>1</td>\n",
       "    </tr>\n",
       "    <tr>\n",
       "      <th>2</th>\n",
       "      <td>894</td>\n",
       "      <td>0</td>\n",
       "    </tr>\n",
       "    <tr>\n",
       "      <th>3</th>\n",
       "      <td>895</td>\n",
       "      <td>0</td>\n",
       "    </tr>\n",
       "    <tr>\n",
       "      <th>4</th>\n",
       "      <td>896</td>\n",
       "      <td>1</td>\n",
       "    </tr>\n",
       "  </tbody>\n",
       "</table>\n",
       "</div>"
      ],
      "text/plain": [
       "   PassengerId  Survived\n",
       "0          892         0\n",
       "1          893         1\n",
       "2          894         0\n",
       "3          895         0\n",
       "4          896         1"
      ]
     },
     "execution_count": 115,
     "metadata": {},
     "output_type": "execute_result"
    }
   ],
   "source": [
    "submission = pd.read_csv('./data/titanic/gender_submission.csv')\n",
    "submission.head()"
   ]
  },
  {
   "cell_type": "code",
   "execution_count": 116,
   "id": "4aaa6f85",
   "metadata": {},
   "outputs": [],
   "source": [
    "submission['Survived'] = k_pre"
   ]
  },
  {
   "cell_type": "code",
   "execution_count": 117,
   "id": "e85c77b3",
   "metadata": {},
   "outputs": [],
   "source": [
    "submission.to_csv('knn_submission01.csv', index=False)"
   ]
  },
  {
   "cell_type": "markdown",
   "id": "beb71fc5",
   "metadata": {},
   "source": [
    "## 성능 개선을 위해 고려해볼 사항"
   ]
  },
  {
   "cell_type": "markdown",
   "id": "d78a8aee",
   "metadata": {},
   "source": [
    "- feature selection(특성 선택)\n",
    "- 데이터 확보 \n",
    "- 전처리작업 변경(결측치, 특성공학, 스케일링)\n",
    "- 모델 변경 -앙상블"
   ]
  },
  {
   "cell_type": "code",
   "execution_count": null,
   "id": "4d4172e5",
   "metadata": {},
   "outputs": [],
   "source": []
  }
 ],
 "metadata": {
  "kernelspec": {
   "display_name": "Python 3",
   "language": "python",
   "name": "python3"
  },
  "language_info": {
   "codemirror_mode": {
    "name": "ipython",
    "version": 3
   },
   "file_extension": ".py",
   "mimetype": "text/x-python",
   "name": "python",
   "nbconvert_exporter": "python",
   "pygments_lexer": "ipython3",
   "version": "3.8.8"
  }
 },
 "nbformat": 4,
 "nbformat_minor": 5
}
